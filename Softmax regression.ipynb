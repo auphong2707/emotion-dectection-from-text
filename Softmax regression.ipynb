{
 "cells": [
  {
   "cell_type": "code",
   "execution_count": null,
   "metadata": {},
   "outputs": [],
   "source": [
    "import numpy as np\n",
    "import matplotlib.pyplot as plt\n",
    "import seaborn as sns\n",
    "import pandas as pd\n",
    "import warnings\n",
    "warnings.filterwarnings('ignore')\n",
    "\n",
    "from sklearn.linear_model import LogisticRegression\n",
    "from sklearn.model_selection import GridSearchCV, cross_val_score\n",
    "from sklearn.metrics import accuracy_score\n",
    "from sklearn.preprocessing import StandardScaler\n",
    "from joblib import dump, load\n",
    "\n",
    "from preset_function import evaluate_model, draw_learning_curve, load_processed_data\n",
    "\n",
    "X_train_bow, X_test_bow, X_train_tfidf, X_test_tfidf, \\\n",
    "    X_train_bow_L1, X_test_bow_L1, X_train_tfidf_L1, X_test_tfidf_L1 = load_processed_data('input')\n",
    "\n",
    "y_train, y_test = load_processed_data('output')\n",
    "\n",
    "%matplotlib inline"
   ]
  },
  {
   "cell_type": "markdown",
   "metadata": {},
   "source": [
    "Select dataset:"
   ]
  },
  {
   "cell_type": "code",
   "execution_count": null,
   "metadata": {},
   "outputs": [],
   "source": [
    "X_train = X_train_bow_L1\n",
    "X_test = X_test_bow_L1"
   ]
  },
  {
   "cell_type": "markdown",
   "metadata": {},
   "source": [
    "# Basic training"
   ]
  },
  {
   "cell_type": "code",
   "execution_count": null,
   "metadata": {},
   "outputs": [],
   "source": [
    "softmax_model = LogisticRegression(multi_class='multinomial')\n",
    "softmax_model.fit(X_train, y_train)"
   ]
  },
  {
   "cell_type": "code",
   "execution_count": null,
   "metadata": {},
   "outputs": [],
   "source": [
    "evaluate_model(softmax_model, X_train, X_test, y_train, y_test, include_training=True)"
   ]
  },
  {
   "cell_type": "code",
   "execution_count": null,
   "metadata": {},
   "outputs": [],
   "source": [
    "draw_learning_curve(softmax_model, X_train, y_train)"
   ]
  },
  {
   "cell_type": "markdown",
   "metadata": {},
   "source": [
    "# Multiple tuning"
   ]
  },
  {
   "cell_type": "markdown",
   "metadata": {},
   "source": [
    "## No regularization"
   ]
  },
  {
   "cell_type": "code",
   "execution_count": null,
   "metadata": {},
   "outputs": [],
   "source": [
    "softmax_model = LogisticRegression(penalty=None, solver='lbfgs', multi_class='multinomial')\n",
    "softmax_model.fit(X_train, y_train)"
   ]
  },
  {
   "cell_type": "code",
   "execution_count": null,
   "metadata": {},
   "outputs": [],
   "source": [
    "evaluate_model(softmax_model, X_train, X_test, y_train, y_test, include_training=True)"
   ]
  },
  {
   "cell_type": "code",
   "execution_count": null,
   "metadata": {},
   "outputs": [],
   "source": [
    "draw_learning_curve(softmax_model, X_train, y_train)"
   ]
  },
  {
   "cell_type": "markdown",
   "metadata": {},
   "source": [
    "## L1 regularization"
   ]
  },
  {
   "cell_type": "markdown",
   "metadata": {},
   "source": [
    "First, we try to plot the validation score through a list of C from 0.001 to 100"
   ]
  },
  {
   "cell_type": "code",
   "execution_count": null,
   "metadata": {},
   "outputs": [],
   "source": [
    "C_list = [0.001, 0.01, 0.1, 1, 5, 10, 100]\n",
    "\n",
    "# Define a list in order to store accuracy points\n",
    "cvs_list = list()\n",
    "trs_list = list()\n",
    "\n",
    "for c in C_list:\n",
    "    # Define model for each C\n",
    "    softmax_model = LogisticRegression(C=c, penalty='l1', solver='saga', multi_class='multinomial')\n",
    "    softmax_model.fit(X_train, y_train)\n",
    "\n",
    "    # Calculate score of cross validation\n",
    "    train_score = accuracy_score(y_train, softmax_model.predict(X_train))\n",
    "    cv_score = np.mean(cross_val_score(softmax_model, X_train, y_train, cv=5, n_jobs=8))\n",
    "\n",
    "    trs_list.append(train_score)\n",
    "    cvs_list.append(cv_score)"
   ]
  },
  {
   "cell_type": "code",
   "execution_count": null,
   "metadata": {},
   "outputs": [],
   "source": [
    "# Print the result\n",
    "print(C_list)\n",
    "print(trs_list)\n",
    "print(cvs_list)\n",
    "\n",
    "# Draw the plot\n",
    "fig = sns.lineplot(x=list(range(len(C_list))), y=cvs_list)\n",
    "fig = sns.lineplot(x=list(range(len(C_list))), y=trs_list)\n",
    "fig.set_xticks(range(len(C_list)))\n",
    "fig.set_xticklabels(C_list)"
   ]
  },
  {
   "cell_type": "markdown",
   "metadata": {},
   "source": [
    "We can see the good value of $C$ is near $C = $, then we scope to $C=$:"
   ]
  },
  {
   "cell_type": "code",
   "execution_count": null,
   "metadata": {},
   "outputs": [],
   "source": [
    "C_list = []\n",
    "\n",
    "# Define a list in order to store accuracy points\n",
    "cvs_list = list()\n",
    "trs_list = list()\n",
    "\n",
    "for c in C_list:\n",
    "    # Define model for each C\n",
    "    softmax_model = LogisticRegression(C=c, penalty='l1', solver='saga', multi_class='multinomial')\n",
    "    softmax_model.fit(X_train, y_train)\n",
    "\n",
    "    # Calculate score of cross validation\n",
    "    train_score = accuracy_score(y_train, softmax_model.predict(X_train))\n",
    "    cv_score = np.mean(cross_val_score(softmax_model, X_train, y_train, cv=5, n_jobs=8))\n",
    "\n",
    "    trs_list.append(train_score)\n",
    "    cvs_list.append(cv_score)"
   ]
  },
  {
   "cell_type": "code",
   "execution_count": null,
   "metadata": {},
   "outputs": [],
   "source": [
    "# Print the result\n",
    "print(C_list)\n",
    "print(trs_list)\n",
    "print(cvs_list)\n",
    "\n",
    "# Draw the plot\n",
    "fig = sns.lineplot(x=list(range(len(C_list))), y=cvs_list)\n",
    "fig = sns.lineplot(x=list(range(len(C_list))), y=trs_list)\n",
    "fig.set_xticks(range(len(C_list)))\n",
    "fig.set_xticklabels(C_list)"
   ]
  },
  {
   "cell_type": "markdown",
   "metadata": {},
   "source": [
    "We choose $C=$ to be the best model."
   ]
  },
  {
   "cell_type": "code",
   "execution_count": 27,
   "metadata": {},
   "outputs": [
    {
     "ename": "SyntaxError",
     "evalue": "invalid syntax (123020755.py, line 1)",
     "output_type": "error",
     "traceback": [
      "\u001b[1;36m  Cell \u001b[1;32mIn[27], line 1\u001b[1;36m\u001b[0m\n\u001b[1;33m    best_l1_softmax_model = LogisticRegression(C=, penalty='l1', solver='saga', multi_class='multinomial')\u001b[0m\n\u001b[1;37m                                                 ^\u001b[0m\n\u001b[1;31mSyntaxError\u001b[0m\u001b[1;31m:\u001b[0m invalid syntax\n"
     ]
    }
   ],
   "source": [
    "best_l1_softmax_model = LogisticRegression(C=1, penalty='l1', solver='saga', multi_class='multinomial')"
   ]
  },
  {
   "cell_type": "code",
   "execution_count": null,
   "metadata": {},
   "outputs": [],
   "source": [
    "best_l1_softmax_model.fit(X_train, y_train)\n",
    "evaluate_model(best_l1_softmax_model, X_train, X_test, y_train, y_test, include_training=True)"
   ]
  },
  {
   "cell_type": "code",
   "execution_count": null,
   "metadata": {},
   "outputs": [],
   "source": [
    "draw_learning_curve(best_l1_softmax_model, X_train, y_train)"
   ]
  },
  {
   "cell_type": "markdown",
   "metadata": {},
   "source": [
    "## L2 regularization"
   ]
  },
  {
   "cell_type": "code",
   "execution_count": null,
   "metadata": {},
   "outputs": [],
   "source": [
    "C_list = [0.001, 0.01, 0.1, 1, 5, 10, 100, 200]\n",
    "\n",
    "# Define a list in order to store accuracy points\n",
    "cvs_list = list()\n",
    "trs_list = list()\n",
    "\n",
    "for c in C_list:\n",
    "    # Define model for each C\n",
    "    softmax_model = LogisticRegression(C=c, penalty='l2', solver='lbfgs', multi_class='multinomial')\n",
    "    softmax_model.fit(X_train, y_train)\n",
    "\n",
    "    # Calculate score of cross validation\n",
    "    train_score = accuracy_score(y_train, softmax_model.predict(X_train))\n",
    "    cv_score = np.mean(cross_val_score(softmax_model, X_train, y_train, cv=5, n_jobs=8))\n",
    "\n",
    "    trs_list.append(train_score)\n",
    "    cvs_list.append(cv_score)"
   ]
  },
  {
   "cell_type": "code",
   "execution_count": null,
   "metadata": {},
   "outputs": [],
   "source": [
    "# Print the result\n",
    "print(C_list)\n",
    "print(trs_list)\n",
    "print(cvs_list)\n",
    "\n",
    "# Draw the plot\n",
    "fig = sns.lineplot(x=list(range(len(C_list))), y=cvs_list)\n",
    "fig = sns.lineplot(x=list(range(len(C_list))), y=trs_list)\n",
    "fig.set_xticks(range(len(C_list)))\n",
    "fig.set_xticklabels(C_list)"
   ]
  },
  {
   "cell_type": "markdown",
   "metadata": {},
   "source": [
    "We can see the good value of $C$ is near $C = $, then we scope to $C=$:"
   ]
  },
  {
   "cell_type": "code",
   "execution_count": null,
   "metadata": {},
   "outputs": [],
   "source": [
    "C_list = []\n",
    "\n",
    "# Define a list in order to store accuracy points\n",
    "cvs_list = list()\n",
    "trs_list = list()\n",
    "\n",
    "for c in C_list:\n",
    "    # Define model for each C\n",
    "    softmax_model = LogisticRegression(C=c, penalty='l2', solver='lbfgs', multi_class='multinomial')\n",
    "    softmax_model.fit(X_train, y_train)\n",
    "\n",
    "    # Calculate score of cross validation\n",
    "    train_score = accuracy_score(y_train, softmax_model.predict(X_train))\n",
    "    cv_score = np.mean(cross_val_score(softmax_model, X_train, y_train, cv=5, n_jobs=8))\n",
    "\n",
    "    trs_list.append(train_score)\n",
    "    cvs_list.append(cv_score)"
   ]
  },
  {
   "cell_type": "code",
   "execution_count": null,
   "metadata": {},
   "outputs": [],
   "source": [
    "# Print the result\n",
    "print(C_list)\n",
    "print(trs_list)\n",
    "print(cvs_list)\n",
    "\n",
    "# Draw the plot\n",
    "fig = sns.lineplot(x=list(range(len(C_list))), y=cvs_list)\n",
    "fig = sns.lineplot(x=list(range(len(C_list))), y=trs_list)\n",
    "fig.set_xticks(range(len(C_list)))\n",
    "fig.set_xticklabels(C_list)"
   ]
  },
  {
   "cell_type": "markdown",
   "metadata": {},
   "source": [
    "We choose $C=$ to be the best model."
   ]
  },
  {
   "cell_type": "code",
   "execution_count": null,
   "metadata": {},
   "outputs": [],
   "source": [
    "best_l2_softmax_model = LogisticRegression(C=1, penalty='l2', solver='lbfgs', multi_class='multinomial')"
   ]
  },
  {
   "cell_type": "code",
   "execution_count": null,
   "metadata": {},
   "outputs": [],
   "source": [
    "best_l2_softmax_model.fit(X_train, y_train)\n",
    "evaluate_model(best_l2_softmax_model, X_train, X_test, y_train, y_test, include_training=True)"
   ]
  },
  {
   "cell_type": "code",
   "execution_count": null,
   "metadata": {},
   "outputs": [],
   "source": [
    "draw_learning_curve(best_l2_softmax_model, X_train, y_train)"
   ]
  },
  {
   "cell_type": "markdown",
   "metadata": {},
   "source": [
    "## Elastic regularization"
   ]
  },
  {
   "cell_type": "code",
   "execution_count": null,
   "metadata": {},
   "outputs": [],
   "source": [
    "dict_param = {\n",
    "    'C' : [0.001, 0.01, 0.1, 1, 5, 10, 100],\n",
    "    'l1_ratio' : np.linspace(0.1, 0.9, 5)\n",
    "}\n",
    "\n",
    "softmax_model = LogisticRegression(penalty='elasticnet', solver='saga', multi_class='multinomial')\n",
    "grid_search = GridSearchCV(softmax_model, dict_param, scoring='accuracy', cv=5, n_jobs=-1)\n",
    "grid_search.fit(X_train, y_train)"
   ]
  },
  {
   "cell_type": "code",
   "execution_count": null,
   "metadata": {},
   "outputs": [],
   "source": [
    "df = pd.DataFrame(\n",
    "  dict(\n",
    "    C = [val['C'] for val in grid_search.cv_results_['params']],\n",
    "    l1_ratio = [val['l1_ratio'] for val in grid_search.cv_results_['params']],\n",
    "    score = grid_search.cv_results_['mean_test_score']\n",
    "  )\n",
    ")\n",
    "df = df[df['score'] < 0.8]\n",
    "print(\"Bad hyperparameter:\")\n",
    "for param in dict_param:\n",
    "  for value in dict_param[param]:\n",
    "    if len(df[df[param] == value]) == 35 // len(dict_param[param]):\n",
    "      print(param, value)"
   ]
  },
  {
   "cell_type": "code",
   "execution_count": null,
   "metadata": {},
   "outputs": [],
   "source": [
    "dict_param = {\n",
    "    'C' : np.logspace(0, 2, 5),\n",
    "    'l1_ratio' : np.linspace(0.1, 0.9, 5)\n",
    "}\n",
    "\n",
    "softmax_model = LogisticRegression(penalty='elasticnet', solver='saga', multi_class='multinomial')\n",
    "grid_search = GridSearchCV(softmax_model, dict_param, scoring='accuracy', cv=5, n_jobs=-1)\n",
    "grid_search.fit(X_train, y_train)"
   ]
  },
  {
   "cell_type": "code",
   "execution_count": null,
   "metadata": {},
   "outputs": [],
   "source": [
    "df = pd.DataFrame(\n",
    "  dict(\n",
    "    C = [val['C'] for val in grid_search.cv_results_['params']],\n",
    "    l1_ratio = [val['l1_ratio'] for val in grid_search.cv_results_['params']],\n",
    "    score = grid_search.cv_results_['mean_test_score']\n",
    "  )\n",
    ")\n",
    "print(df)"
   ]
  },
  {
   "cell_type": "code",
   "execution_count": null,
   "metadata": {},
   "outputs": [],
   "source": [
    "print(grid_search.best_estimator_, grid_search.best_score_)"
   ]
  },
  {
   "cell_type": "code",
   "execution_count": null,
   "metadata": {},
   "outputs": [],
   "source": [
    "best_en_softmax_model = LogisticRegression(C=3.1622776601683795, l1_ratio=0.9,\n",
    "                   multi_class='multinomial', penalty='elasticnet',\n",
    "                   solver='saga')"
   ]
  },
  {
   "cell_type": "code",
   "execution_count": null,
   "metadata": {},
   "outputs": [],
   "source": [
    "best_en_softmax_model.fit(X_train, y_train)\n",
    "evaluate_model(best_en_softmax_model, X_train, X_test, y_train, y_test, include_training=True)"
   ]
  },
  {
   "cell_type": "code",
   "execution_count": null,
   "metadata": {},
   "outputs": [],
   "source": [
    "draw_learning_curve(best_en_softmax_model, X_train, y_train)"
   ]
  },
  {
   "cell_type": "markdown",
   "metadata": {},
   "source": [
    "# Conclusion"
   ]
  },
  {
   "cell_type": "markdown",
   "metadata": {},
   "source": [
    "There are a few difference among the accuracy of these 3 regularization. However, Elastic-net regularization gives the best performance then I will choose it to be the best model in this notebook."
   ]
  },
  {
   "cell_type": "code",
   "execution_count": null,
   "metadata": {},
   "outputs": [],
   "source": [
    "best_softmax_model = best_en_softmax_model"
   ]
  },
  {
   "cell_type": "code",
   "execution_count": null,
   "metadata": {},
   "outputs": [],
   "source": [
    "directory = \"data/models/softmax/\"\n",
    "\n",
    "dump(best_softmax_model, directory + \"best_softmax_bow_l1_model.joblib\")"
   ]
  }
 ],
 "metadata": {
  "kernelspec": {
   "display_name": "Python 3",
   "language": "python",
   "name": "python3"
  },
  "language_info": {
   "codemirror_mode": {
    "name": "ipython",
    "version": 3
   },
   "file_extension": ".py",
   "mimetype": "text/x-python",
   "name": "python",
   "nbconvert_exporter": "python",
   "pygments_lexer": "ipython3",
   "version": "3.11.3"
  }
 },
 "nbformat": 4,
 "nbformat_minor": 2
}
