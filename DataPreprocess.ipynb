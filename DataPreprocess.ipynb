{
  "cells": [
    {
      "cell_type": "markdown",
      "metadata": {
        "id": "nj7DW4_mFDBh"
      },
      "source": [
        "# **Data Preprocess**"
      ]
    },
    {
      "cell_type": "markdown",
      "metadata": {
        "id": "aDTriPXukNqb"
      },
      "source": [
        "## Importation & Data loading"
      ]
    },
    {
      "cell_type": "markdown",
      "metadata": {
        "id": "NKqQ0TvIZSOK"
      },
      "source": [
        "Preparing necessary packages (may need to add more):"
      ]
    },
    {
      "cell_type": "code",
      "execution_count": 108,
      "metadata": {
        "id": "9TbRS-hBXsHe"
      },
      "outputs": [
        {
          "name": "stderr",
          "output_type": "stream",
          "text": [
            "[nltk_data] Downloading package punkt to\n",
            "[nltk_data]     C:\\Users\\DELL\\AppData\\Roaming\\nltk_data...\n",
            "[nltk_data]   Package punkt is already up-to-date!\n"
          ]
        }
      ],
      "source": [
        "import numpy as np  # Work with multi-dimenional data\n",
        "import pandas as pd # Work with relational data\n",
        "import matplotlib.pyplot as plt # Visualize data\n",
        "import seaborn as sns # Visualize data base on matplotlib\n",
        "import nltk #\n",
        "from nltk.stem import PorterStemmer\n",
        "from nltk.tokenize import word_tokenize\n",
        "from scipy import sparse\n",
        "\n",
        "nltk.download('punkt')\n",
        "\n",
        "import warnings\n",
        "warnings.filterwarnings(\"ignore\")\n",
        "\n",
        "from sklearn.feature_extraction.text import CountVectorizer, TfidfVectorizer\n",
        "from sklearn.model_selection import train_test_split\n",
        "\n",
        "%matplotlib inline"
      ]
    },
    {
      "cell_type": "markdown",
      "metadata": {
        "id": "bTgWau1hdl23"
      },
      "source": [
        "Load data from files"
      ]
    },
    {
      "cell_type": "code",
      "execution_count": 109,
      "metadata": {
        "colab": {
          "base_uri": "https://localhost:8080/"
        },
        "id": "BY138Gindon3",
        "outputId": "20e0b050-60cd-4a03-ffc8-2a8cd393aa5b"
      },
      "outputs": [],
      "source": [
        "directory = 'data/dataset/raw/'\n",
        "\n",
        "# This method use to extract all the file in the input list\n",
        "def extract_data(files):\n",
        "  data_x_raw = list()\n",
        "  data_y_raw = list()\n",
        "  for file in files:\n",
        "    with open(directory + file) as f:\n",
        "      for line in f:\n",
        "        line = line.strip('\\n')\n",
        "        x_raw, y_raw = line.split(sep=';')\n",
        "\n",
        "        data_x_raw.append(x_raw)\n",
        "        data_y_raw.append(y_raw)\n",
        "\n",
        "  return data_x_raw, data_y_raw"
      ]
    },
    {
      "cell_type": "code",
      "execution_count": 110,
      "metadata": {},
      "outputs": [
        {
          "name": "stdout",
          "output_type": "stream",
          "text": [
            "Traning data's size is: 16000\n",
            "Test data's size is: 4000\n"
          ]
        }
      ],
      "source": [
        "# Get all data\n",
        "\n",
        "X_raw, y_raw = extract_data(['train.txt', 'val.txt', 'test.txt'])\n",
        "X_train_raw, X_test_raw, y_train_raw, y_test_raw = train_test_split(X_raw, y_raw, test_size = 0.2)\n",
        "\n",
        "print(\"Traning data's size is:\", len(X_train_raw))\n",
        "print(\"Test data's size is:\", len(X_test_raw))"
      ]
    },
    {
      "cell_type": "markdown",
      "metadata": {
        "id": "-UhsCl8HgxKV"
      },
      "source": [
        "## Inital feature Extraction\n"
      ]
    },
    {
      "cell_type": "markdown",
      "metadata": {
        "id": "MkacoVpjhG6O"
      },
      "source": [
        "Removing the stopword"
      ]
    },
    {
      "cell_type": "code",
      "execution_count": 111,
      "metadata": {
        "id": "0OCse4nNgaoy"
      },
      "outputs": [
        {
          "name": "stdout",
          "output_type": "stream",
          "text": [
            "850\n"
          ]
        }
      ],
      "source": [
        "file = open(\"data/stopwords/stop_words_english.txt\", 'r', encoding='utf-8')\n",
        "stopword_list = file.read().split('\\n')\n",
        "file.close()\n",
        "print(len(stopword_list))"
      ]
    },
    {
      "cell_type": "markdown",
      "metadata": {
        "id": "kRGC3YwhD6Qx"
      },
      "source": [
        "Vectorize the data:\n",
        "\n",
        "1.   Bag Of Words model (https://en.wikipedia.org/wiki/Bag-of-words_model)\n",
        "2.   BoW/TF-IDF model (https://en.wikipedia.org/wiki/Tf%E2%80%93idf)\n",
        "\n"
      ]
    },
    {
      "cell_type": "code",
      "execution_count": 112,
      "metadata": {
        "colab": {
          "base_uri": "https://localhost:8080/"
        },
        "id": "YY6UaDwAD_Aj",
        "outputId": "1a4102e0-7a25-4fcd-8804-cd327552d601"
      },
      "outputs": [
        {
          "name": "stdout",
          "output_type": "stream",
          "text": [
            "Shape of preprocessed training data X using BoW model is:  (16000, 100817)\n"
          ]
        }
      ],
      "source": [
        "# Scikit CountVectorizer:\n",
        "# Documentation: (https://scikit-learn.org/stable/modules/generated/sklearn.feature_extraction.text.CountVectorizer.html)\n",
        "\n",
        "count_vector = CountVectorizer(stop_words=stopword_list, ngram_range=(1, 2))\n",
        "count_vector.fit(X_train_raw + X_test_raw)\n",
        "X_train_bow = count_vector.transform(X_train_raw)\n",
        "X_test_bow = count_vector.transform(X_test_raw)\n",
        "dictionary = count_vector.get_feature_names_out()\n",
        "\n",
        "print(\"Shape of preprocessed training data X using BoW model is: \", X_train_bow.shape)"
      ]
    },
    {
      "cell_type": "code",
      "execution_count": 113,
      "metadata": {
        "colab": {
          "base_uri": "https://localhost:8080/"
        },
        "id": "D3a48rJjEHcG",
        "outputId": "29671b0a-cee6-4a0e-bc05-54348d303d64"
      },
      "outputs": [
        {
          "name": "stdout",
          "output_type": "stream",
          "text": [
            "Shape of preprocessed training data X using BoW/TF-IDF model is:  (16000, 100817)\n"
          ]
        }
      ],
      "source": [
        "# Scikit TF-IDF:\n",
        "# Documentation: (https://scikit-learn.org/stable/modules/generated/sklearn.feature_extraction.text.TfidfVectorizer.html#sklearn.feature_extraction.text.TfidfVectorizer)\n",
        "\n",
        "tfidf_vector = TfidfVectorizer(stop_words=stopword_list, ngram_range=(1, 2))\n",
        "tfidf_vector.fit(X_train_raw + X_test_raw)\n",
        "X_train_tfidf = tfidf_vector.transform(X_train_raw)\n",
        "X_test_tfidf = tfidf_vector.transform(X_test_raw)\n",
        "\n",
        "print(\"Shape of preprocessed training data X using BoW/TF-IDF model is: \", X_train_tfidf.shape)"
      ]
    },
    {
      "cell_type": "markdown",
      "metadata": {
        "id": "fyttkaIPIuTR"
      },
      "source": [
        "Cast output list to ndarray"
      ]
    },
    {
      "cell_type": "code",
      "execution_count": 114,
      "metadata": {
        "colab": {
          "base_uri": "https://localhost:8080/"
        },
        "id": "jSQpqMqlI0Z9",
        "outputId": "efbcea7b-dd4c-4c1a-fc0d-308dd6a2603b"
      },
      "outputs": [],
      "source": [
        "y_train = np.asarray(y_train_raw)\n",
        "y_test = np.asarray(y_test_raw)"
      ]
    },
    {
      "cell_type": "markdown",
      "metadata": {
        "id": "4ob9acTnuVLG"
      },
      "source": [
        "*Luckily we're quite done with the abbreviations!*"
      ]
    },
    {
      "cell_type": "markdown",
      "metadata": {
        "id": "0Fhcc_aUTueC"
      },
      "source": [
        "## Initial exploratory Data Analysis (EDA)"
      ]
    },
    {
      "cell_type": "markdown",
      "metadata": {
        "id": "2B0kWS9bktj2"
      },
      "source": [
        "Average length of the comment:"
      ]
    },
    {
      "cell_type": "code",
      "execution_count": 115,
      "metadata": {
        "colab": {
          "base_uri": "https://localhost:8080/"
        },
        "id": "3n36QobPkewe",
        "outputId": "9c647833-7410-4f04-816c-be69413b7959"
      },
      "outputs": [
        {
          "name": "stdout",
          "output_type": "stream",
          "text": [
            "The mean number of characters of each line is: 96\n",
            "The mean number of words of each line is: 19\n"
          ]
        }
      ],
      "source": [
        "# Calculate average number of characters\n",
        "sum_of_chars = sum([len(x) for x in X_train_raw])\n",
        "mean_number_chars = sum_of_chars / len(X_train_raw)\n",
        "\n",
        "# Calculate average number of words\n",
        "sum_of_words = sum([len(x.split()) for x in X_train_raw])\n",
        "mean_number_words = sum_of_words / len(X_train_raw)\n",
        "\n",
        "# Print\n",
        "print('The mean number of characters of each line is: %d' % mean_number_chars)\n",
        "print('The mean number of words of each line is: %d' % mean_number_words)"
      ]
    },
    {
      "cell_type": "markdown",
      "metadata": {
        "id": "VAZxbqwQpJ_H"
      },
      "source": [
        "Statistic of output labels:"
      ]
    },
    {
      "cell_type": "code",
      "execution_count": 116,
      "metadata": {
        "colab": {
          "base_uri": "https://localhost:8080/",
          "height": 563
        },
        "id": "uqs1jJTspQX5",
        "outputId": "d5cdb852-87d4-4c02-fcaa-9674d73a02e9"
      },
      "outputs": [
        {
          "name": "stdout",
          "output_type": "stream",
          "text": [
            "Number of labels is: 6\n",
            "Labels: anger, fear, joy, love, sadness, surprise\n",
            "\n",
            "----------------------------------------------------------------------------\n",
            "\n"
          ]
        },
        {
          "data": {
            "image/png": "[encoded data removed]",
            "text/plain": [
              "<Figure size 640x480 with 1 Axes>"
            ]
          },
          "metadata": {},
          "output_type": "display_data"
        }
      ],
      "source": [
        "# Number of labels:\n",
        "labels = np.unique(y_train)\n",
        "print('Number of labels is: %d' % len(labels))\n",
        "print('Labels: ' + ', '.join(labels))\n",
        "print('\\n----------------------------------------------------------------------------\\n')\n",
        "\n",
        "# Plot:\n",
        "df = pd.DataFrame(\n",
        "  dict(\n",
        "    labels = labels,\n",
        "    label_elements_count = [y_train_raw.count(label) for label in labels]\n",
        "  )\n",
        ")\n",
        "df = df.sort_values('label_elements_count')\n",
        "\n",
        "plt.title(label='Labels statistics')\n",
        "plt.xlabel('Labels')\n",
        "plt.ylabel('Count')\n",
        "\n",
        "plt.bar('labels', 'label_elements_count', data=df)\n",
        "\n",
        "plt.show()"
      ]
    },
    {
      "cell_type": "markdown",
      "metadata": {
        "id": "BNNYNBrIts1k"
      },
      "source": [
        "Statistics of words with the highest frequency of each label:"
      ]
    },
    {
      "cell_type": "code",
      "execution_count": 117,
      "metadata": {
        "id": "eieb8hWmtsT1"
      },
      "outputs": [
        {
          "data": {
            "image/png": "[encoded data removed]",
            "text/plain": [
              "<Figure size 640x480 with 6 Axes>"
            ]
          },
          "metadata": {},
          "output_type": "display_data"
        }
      ],
      "source": [
        "def show_highest_frequency_words(dataset):\n",
        "  vect_arr = dataset.toarray()\n",
        "  vect_aggr = np.zeros(shape=(len(labels), vect_arr.shape[1]))\n",
        "\n",
        "  for idx in range(len(vect_arr)):\n",
        "    label_idx = int(np.where(labels==y_train[idx])[0][0])\n",
        "\n",
        "    vect_aggr[label_idx] += vect_arr[idx]\n",
        "\n",
        "  fig, axs = plt.subplots(3, 2)\n",
        "\n",
        "  for label_idx in range(len(labels)):\n",
        "    axs_x, axs_y = label_idx // 2, label_idx % 2\n",
        "\n",
        "    plt_ref = axs[axs_x][axs_y]\n",
        "    plt_ref.set_title(labels[label_idx].upper())\n",
        "\n",
        "    x_axis, y_axis = list(), list()\n",
        "    n_argmax = np.argpartition(vect_aggr[label_idx], -7)[-7:]\n",
        "    n_argmax = n_argmax[np.argsort(vect_aggr[label_idx][n_argmax])]\n",
        "    for i in n_argmax:\n",
        "      x_axis.append(dictionary[i])\n",
        "      y_axis.append(vect_aggr[label_idx][i])\n",
        "\n",
        "    x_axis = np.asarray(x_axis)\n",
        "    y_axis = np.asarray(y_axis)\n",
        "\n",
        "    plt_ref.barh(x_axis, y_axis)\n",
        "\n",
        "  # Adjust layout\n",
        "  plt.tight_layout()\n",
        "\n",
        "  # Show the plot\n",
        "  plt.show()\n",
        "\n",
        "show_highest_frequency_words(X_train_bow)"
      ]
    },
    {
      "cell_type": "markdown",
      "metadata": {},
      "source": [
        "## Data Fixing"
      ]
    },
    {
      "cell_type": "markdown",
      "metadata": {},
      "source": [
        "This part will eliminate all the words that have bad influence to our data.\n",
        "All the words will be stored in a file stored in file *filtered_words.txt*\n",
        "\n",
        "* Words appears so many times but don't contribute much (*feel*, *feeling*,...).\n",
        "* Words have no mean (*aa*,*ab*,...)\n",
        "* Words appears only a few"
      ]
    },
    {
      "cell_type": "code",
      "execution_count": 133,
      "metadata": {},
      "outputs": [
        {
          "name": "stdout",
          "output_type": "stream",
          "text": [
            "1029\n"
          ]
        },
        {
          "name": "stderr",
          "output_type": "stream",
          "text": [
            "[nltk_data] Downloading package stopwords to\n",
            "[nltk_data]     C:\\Users\\DELL\\AppData\\Roaming\\nltk_data...\n",
            "[nltk_data]   Package stopwords is already up-to-date!\n"
          ]
        }
      ],
      "source": [
        "file = open(\"data/stopwords/stop_words_english.txt\", 'r', encoding='utf-8')\n",
        "stop_words = file.read().split('\\n')\n",
        "\n",
        "import nltk\n",
        "from nltk.corpus import stopwords\n",
        " \n",
        "nltk.download('stopwords')\n",
        "tmp = stopwords.words('english')\n",
        "\n",
        "unfiltered_stopwords = stop_words + tmp\n",
        "\n",
        "print(len(unfiltered_stopwords))"
      ]
    },
    {
      "cell_type": "markdown",
      "metadata": {},
      "source": [
        "Create tokenize function with the help of nltk packages"
      ]
    },
    {
      "cell_type": "code",
      "execution_count": 134,
      "metadata": {},
      "outputs": [],
      "source": [
        "stemmer = PorterStemmer()\n",
        "\n",
        "def unfiltered_tokenize(text):\n",
        "    tokens = word_tokenize(text)\n",
        "    tokens = [word for word in tokens if word not in unfiltered_stopwords]\n",
        "    stems = [stemmer.stem(token) for token in tokens]\n",
        "    return stems"
      ]
    },
    {
      "cell_type": "markdown",
      "metadata": {},
      "source": [
        "Fit the data again"
      ]
    },
    {
      "cell_type": "code",
      "execution_count": 135,
      "metadata": {},
      "outputs": [],
      "source": [
        "# Dictionary semi_filtered: Using basic stopwords only\n",
        "\n",
        "count_vector = CountVectorizer(stop_words=unfiltered_stopwords, tokenizer=unfiltered_tokenize, ngram_range=(1, 2))\n",
        "count_vector.fit(X_train_raw + X_test_raw)\n",
        "X_train_bow_semi_filtered = count_vector.transform(X_train_raw)\n",
        "X_test_bow_semi_filtered = count_vector.transform(X_test_raw)\n",
        "dictionary_semi_filtered = count_vector.get_feature_names_out()\n",
        "\n",
        "tfidf_vector = TfidfVectorizer(stop_words=unfiltered_stopwords, tokenizer=unfiltered_tokenize, ngram_range=(1, 2))\n",
        "tfidf_vector.fit(X_train_raw + X_test_raw)\n",
        "X_train_tfidf_semi_filtered = tfidf_vector.transform(X_train_raw)\n",
        "X_test_tfidf_semi_filtered = tfidf_vector.transform(X_test_raw)"
      ]
    },
    {
      "cell_type": "code",
      "execution_count": 136,
      "metadata": {},
      "outputs": [],
      "source": [
        "# Dictionary semi_mono: Using basic filters, containing only 1-gram, used to perform LASSO-filter to obtain L1 dict\n",
        "\n",
        "count_vector = CountVectorizer(stop_words=unfiltered_stopwords, tokenizer=unfiltered_tokenize, ngram_range=(1, 1))\n",
        "count_vector.fit(X_train_raw + X_test_raw)\n",
        "X_train_bow_semi_mono = count_vector.transform(X_train_raw)\n",
        "X_test_bow_semi_mono = count_vector.transform(X_test_raw)\n",
        "dictionary_semi_mono = count_vector.get_feature_names_out()"
      ]
    },
    {
      "cell_type": "markdown",
      "metadata": {},
      "source": [
        "Sorting out the useless stopwords to make L1 dictionary. We perform LASSO Logistic Regression on dictionary_semi_mono to sort out all useless stopwords (criterion: L2 norm of the L1 weight = 0), then make it a new stopword list."
      ]
    },
    {
      "cell_type": "code",
      "execution_count": 137,
      "metadata": {},
      "outputs": [
        {
          "data": {
            "text/html": [
              "<style>#sk-container-id-6 {color: black;background-color: white;}#sk-container-id-6 pre{padding: 0;}#sk-container-id-6 div.sk-toggleable {background-color: white;}#sk-container-id-6 label.sk-toggleable__label {cursor: pointer;display: block;width: 100%;margin-bottom: 0;padding: 0.3em;box-sizing: border-box;text-align: center;}#sk-container-id-6 label.sk-toggleable__label-arrow:before {content: \"▸\";float: left;margin-right: 0.25em;color: #696969;}#sk-container-id-6 label.sk-toggleable__label-arrow:hover:before {color: black;}#sk-container-id-6 div.sk-estimator:hover label.sk-toggleable__label-arrow:before {color: black;}#sk-container-id-6 div.sk-toggleable__content {max-height: 0;max-width: 0;overflow: hidden;text-align: left;background-color: #f0f8ff;}#sk-container-id-6 div.sk-toggleable__content pre {margin: 0.2em;color: black;border-radius: 0.25em;background-color: #f0f8ff;}#sk-container-id-6 input.sk-toggleable__control:checked~div.sk-toggleable__content {max-height: 200px;max-width: 100%;overflow: auto;}#sk-container-id-6 input.sk-toggleable__control:checked~label.sk-toggleable__label-arrow:before {content: \"▾\";}#sk-container-id-6 div.sk-estimator input.sk-toggleable__control:checked~label.sk-toggleable__label {background-color: #d4ebff;}#sk-container-id-6 div.sk-label input.sk-toggleable__control:checked~label.sk-toggleable__label {background-color: #d4ebff;}#sk-container-id-6 input.sk-hidden--visually {border: 0;clip: rect(1px 1px 1px 1px);clip: rect(1px, 1px, 1px, 1px);height: 1px;margin: -1px;overflow: hidden;padding: 0;position: absolute;width: 1px;}#sk-container-id-6 div.sk-estimator {font-family: monospace;background-color: #f0f8ff;border: 1px dotted black;border-radius: 0.25em;box-sizing: border-box;margin-bottom: 0.5em;}#sk-container-id-6 div.sk-estimator:hover {background-color: #d4ebff;}#sk-container-id-6 div.sk-parallel-item::after {content: \"\";width: 100%;border-bottom: 1px solid gray;flex-grow: 1;}#sk-container-id-6 div.sk-label:hover label.sk-toggleable__label {background-color: #d4ebff;}#sk-container-id-6 div.sk-serial::before {content: \"\";position: absolute;border-left: 1px solid gray;box-sizing: border-box;top: 0;bottom: 0;left: 50%;z-index: 0;}#sk-container-id-6 div.sk-serial {display: flex;flex-direction: column;align-items: center;background-color: white;padding-right: 0.2em;padding-left: 0.2em;position: relative;}#sk-container-id-6 div.sk-item {position: relative;z-index: 1;}#sk-container-id-6 div.sk-parallel {display: flex;align-items: stretch;justify-content: center;background-color: white;position: relative;}#sk-container-id-6 div.sk-item::before, #sk-container-id-6 div.sk-parallel-item::before {content: \"\";position: absolute;border-left: 1px solid gray;box-sizing: border-box;top: 0;bottom: 0;left: 50%;z-index: -1;}#sk-container-id-6 div.sk-parallel-item {display: flex;flex-direction: column;z-index: 1;position: relative;background-color: white;}#sk-container-id-6 div.sk-parallel-item:first-child::after {align-self: flex-end;width: 50%;}#sk-container-id-6 div.sk-parallel-item:last-child::after {align-self: flex-start;width: 50%;}#sk-container-id-6 div.sk-parallel-item:only-child::after {width: 0;}#sk-container-id-6 div.sk-dashed-wrapped {border: 1px dashed gray;margin: 0 0.4em 0.5em 0.4em;box-sizing: border-box;padding-bottom: 0.4em;background-color: white;}#sk-container-id-6 div.sk-label label {font-family: monospace;font-weight: bold;display: inline-block;line-height: 1.2em;}#sk-container-id-6 div.sk-label-container {text-align: center;}#sk-container-id-6 div.sk-container {/* jupyter's `normalize.less` sets `[hidden] { display: none; }` but bootstrap.min.css set `[hidden] { display: none !important; }` so we also need the `!important` here to be able to override the default hidden behavior on the sphinx rendered scikit-learn.org. See: https://github.com/scikit-learn/scikit-learn/issues/21755 */display: inline-block !important;position: relative;}#sk-container-id-6 div.sk-text-repr-fallback {display: none;}</style><div id=\"sk-container-id-6\" class=\"sk-top-container\"><div class=\"sk-text-repr-fallback\"><pre>LogisticRegression(penalty=&#x27;l1&#x27;, random_state=42, solver=&#x27;saga&#x27;)</pre><b>In a Jupyter environment, please rerun this cell to show the HTML representation or trust the notebook. <br />On GitHub, the HTML representation is unable to render, please try loading this page with nbviewer.org.</b></div><div class=\"sk-container\" hidden><div class=\"sk-item\"><div class=\"sk-estimator sk-toggleable\"><input class=\"sk-toggleable__control sk-hidden--visually\" id=\"sk-estimator-id-6\" type=\"checkbox\" checked><label for=\"sk-estimator-id-6\" class=\"sk-toggleable__label sk-toggleable__label-arrow\">LogisticRegression</label><div class=\"sk-toggleable__content\"><pre>LogisticRegression(penalty=&#x27;l1&#x27;, random_state=42, solver=&#x27;saga&#x27;)</pre></div></div></div></div></div>"
            ],
            "text/plain": [
              "LogisticRegression(penalty='l1', random_state=42, solver='saga')"
            ]
          },
          "execution_count": 137,
          "metadata": {},
          "output_type": "execute_result"
        }
      ],
      "source": [
        "from sklearn.linear_model import LogisticRegression\n",
        "from scipy.sparse import vstack\n",
        "linear_semi_mono = LogisticRegression(penalty='l1', solver='saga', random_state = 42)\n",
        "linear_semi_mono.fit(vstack((X_train_bow_semi_mono, X_test_bow_semi_mono)), \n",
        "                     np.concatenate((y_train.reshape(16000, 1), y_test.reshape(4000, 1))))"
      ]
    },
    {
      "cell_type": "code",
      "execution_count": 138,
      "metadata": {},
      "outputs": [
        {
          "name": "stdout",
          "output_type": "stream",
          "text": [
            "(16000, 11182)\n"
          ]
        }
      ],
      "source": [
        "print(X_train_bow_semi_mono.shape)"
      ]
    },
    {
      "cell_type": "code",
      "execution_count": 139,
      "metadata": {},
      "outputs": [
        {
          "name": "stdout",
          "output_type": "stream",
          "text": [
            "(6, 11182)\n"
          ]
        }
      ],
      "source": [
        "print(linear_semi_mono.coef_.shape)\n",
        "lin_coef = linear_semi_mono.coef_.T"
      ]
    },
    {
      "cell_type": "code",
      "execution_count": 140,
      "metadata": {},
      "outputs": [],
      "source": [
        "useless_coef = list()\n",
        "for i in range(lin_coef.shape[0]):\n",
        "    if (lin_coef[i] == np.zeros((lin_coef.shape[1]))).all():\n",
        "        useless_coef.append(i)"
      ]
    },
    {
      "cell_type": "code",
      "execution_count": 141,
      "metadata": {},
      "outputs": [
        {
          "name": "stdout",
          "output_type": "stream",
          "text": [
            "9593\n"
          ]
        }
      ],
      "source": [
        "print(len(useless_coef))"
      ]
    },
    {
      "cell_type": "code",
      "execution_count": 142,
      "metadata": {},
      "outputs": [],
      "source": [
        "with open(\"data/stopwords/useless.txt\", 'w') as file:\n",
        "    for i in useless_coef:\n",
        "        file.write(dictionary_semi_mono[i])\n",
        "        file.write('\\n')"
      ]
    },
    {
      "cell_type": "code",
      "execution_count": 143,
      "metadata": {},
      "outputs": [],
      "source": [
        "file = open(\"data/stopwords/useless.txt\", 'r', encoding='utf-8')\n",
        "useless = file.read().split('\\n')\n",
        "\n",
        "L1_stopwords = unfiltered_stopwords + useless\n"
      ]
    },
    {
      "cell_type": "code",
      "execution_count": 144,
      "metadata": {},
      "outputs": [],
      "source": [
        "def useless_tokenize(text):\n",
        "    tokens = word_tokenize(text)\n",
        "    tokens = [word for word in tokens if word not in L1_stopwords]\n",
        "    stems = [stemmer.stem(token) for token in tokens]\n",
        "    return stems\n",
        "\n",
        "# Dictionary L1: Obtained by selecting useful tokens from semi_mono using L1 decomposition.\n",
        "\n",
        "count_vector = CountVectorizer(stop_words=L1_stopwords, tokenizer=useless_tokenize, ngram_range=(1, 2))\n",
        "count_vector.fit(X_train_raw + X_test_raw)\n",
        "X_train_bow_L1 = count_vector.transform(X_train_raw)\n",
        "X_test_bow_L1 = count_vector.transform(X_test_raw)\n",
        "dictionary_L1 = count_vector.get_feature_names_out()\n",
        "\n",
        "tfidf_vector = TfidfVectorizer(stop_words=L1_stopwords, tokenizer=useless_tokenize, ngram_range=(1, 2))\n",
        "tfidf_vector.fit(X_train_raw + X_test_raw)\n",
        "X_train_tfidf_L1 = tfidf_vector.transform(X_train_raw)\n",
        "X_test_tfidf_L1 = tfidf_vector.transform(X_test_raw)"
      ]
    },
    {
      "cell_type": "code",
      "execution_count": 145,
      "metadata": {},
      "outputs": [
        {
          "name": "stdout",
          "output_type": "stream",
          "text": [
            "The length of the semi-filtered dictionary:  86216\n",
            "The length of the L1 dictionary:  46002\n"
          ]
        }
      ],
      "source": [
        "print(\"The length of the semi-filtered dictionary: \", len(dictionary_semi_filtered))\n",
        "print(\"The length of the L1 dictionary: \", len(dictionary_L1))"
      ]
    },
    {
      "cell_type": "code",
      "execution_count": 151,
      "metadata": {},
      "outputs": [
        {
          "name": "stdout",
          "output_type": "stream",
          "text": [
            "0.878\n"
          ]
        }
      ],
      "source": [
        "from sklearn.linear_model import LogisticRegression\n",
        "from sklearn.metrics import accuracy_score\n",
        "model = LogisticRegression(penalty='l1', solver='liblinear')\n",
        "model.fit(X_train_bow_semi_filtered, y_train)\n",
        "y_pred = model.predict(X_test_bow_semi_filtered)\n",
        "print(accuracy_score(y_pred, y_test))"
      ]
    },
    {
      "cell_type": "markdown",
      "metadata": {},
      "source": [
        "## Export data to files"
      ]
    },
    {
      "cell_type": "markdown",
      "metadata": {},
      "source": [
        "Dataset input: $X\\_type\\_algo\\_filter$\n",
        "- [type]: Dataset is train/test set.\n",
        "- [algo]: Dataset is tokenized using which algorithm. \"bow\" stands for Bag of Words, while \"tfidf\" stands for TF-IDF\n",
        "- [filter]: Dataset is tokenized using which filter. If \"L1\" appears, the dataset is tokenized using L1-trimmed filter. Otherwise, it is tokenized using basic filter.\n",
        "\n",
        "Dataset output: $Y\\_type$ \n",
        "- [type]: Dataset is train/test set."
      ]
    },
    {
      "cell_type": "code",
      "execution_count": 152,
      "metadata": {},
      "outputs": [],
      "source": [
        "save_directory = \"data/dataset/processed/\"\n",
        "\n",
        "sparse.save_npz(save_directory + \"X_train_bow.npz\", X_train_bow_semi_filtered)\n",
        "sparse.save_npz(save_directory + \"X_test_bow.npz\", X_test_bow_semi_filtered)\n",
        "\n",
        "sparse.save_npz(save_directory + \"X_train_tfidf.npz\", X_train_tfidf_semi_filtered)\n",
        "sparse.save_npz(save_directory + \"X_test_tfidf.npz\", X_test_tfidf_semi_filtered)\n",
        "\n",
        "sparse.save_npz(save_directory + \"X_train_bow_L1.npz\", X_train_bow_L1)\n",
        "sparse.save_npz(save_directory + \"X_test_bow_L1.npz\", X_test_bow_L1)\n",
        "\n",
        "sparse.save_npz(save_directory + \"X_train_tfidf_L1.npz\", X_train_tfidf_L1)\n",
        "sparse.save_npz(save_directory + \"X_test_tfidf_L1.npz\", X_test_tfidf_L1)\n",
        "\n",
        "np.savetxt(save_directory + \"y_train.txt\", y_train, fmt='%s')\n",
        "np.savetxt(save_directory + \"y_test.txt\", y_test, fmt='%s')"
      ]
    },
    {
      "cell_type": "markdown",
      "metadata": {
        "id": "9syl2WgjTppC"
      },
      "source": [
        "## Variables summary"
      ]
    },
    {
      "cell_type": "markdown",
      "metadata": {
        "id": "rvyhe6bnT0at"
      },
      "source": [
        "\n",
        "\n",
        "\n",
        "---\n",
        "\n",
        "\n",
        "**X_train_raw**, **y_train_raw**: ***list***\n",
        "\n",
        "Raw training data which is extracted directly from files.\n",
        "\n",
        "---\n",
        "\n",
        "\n",
        "**X_test**, **y_test**: ***list***\n",
        "\n",
        "  Raw testing data which is extracted directly from files.\n",
        "\n",
        "---\n",
        "\n",
        "\n",
        "**stopword_list**: ***list***\n",
        "\n",
        " List of stop words used in BoW and BoW/TF-IDF models\n",
        "\n",
        "---\n",
        "\n",
        "\n",
        "**dictionary**: ***numpy.ndarray***\n",
        "\n",
        " Dictionary of words which is used to vectorized the data and number of occurences.\n",
        "\n",
        "---\n",
        "\n",
        "\n",
        "**X_train_bow_(suf)**: ***scipy.sparse._csr.csr_matrix***\n",
        "\n",
        " Training data input which is vectorized by the BoW model.\n",
        "\n",
        "---\n",
        "\n",
        "\n",
        "**X_train_tfidf_(suf)**: ***scipy.sparse._csr.csr_matrix***\n",
        "\n",
        " Training data input which is vectorized by the BoW/TFIDF model\n",
        "\n",
        "---\n",
        "\n",
        "\n",
        "**X_test_bow_(suf)**: ***scipy.sparse._csr.csr_matrix***\n",
        "\n",
        " Testing data input which is vectorized by the BoW model.\n",
        "\n",
        "---\n",
        "\n",
        "\n",
        "**X_test_tfidf_(suf)**: ***scipy.sparse._csr.csr_matrix***\n",
        "\n",
        " Testing data input which is vectorized by the BoW/TFIDF model\n",
        "\n",
        "---\n",
        "\n",
        "\n",
        "**y_train**: ***numpy.ndarray***\n",
        "\n",
        " Preprocessed traning data output\n",
        "\n",
        "\n",
        "---\n",
        "\n",
        "**(suf)**:\n",
        "\n",
        "This depends on which stopword set is used to tokenize the datasets. Currently, we offer 2 choices:\n",
        "- (suf) == \"semi_filtered\": Basic stopword set, imported from NLTK as well as the Internet source referred above\n",
        "- (suf) == \"L1\": Augmented stopword set, with addition of \"useless\" tokens identified by performing a LASSO scan on \"semi_filtered\" set with only 1-gram allowed."
      ]
    }
  ],
  "metadata": {
    "accelerator": "GPU",
    "colab": {
      "gpuType": "T4",
      "include_colab_link": true,
      "provenance": [],
      "toc_visible": true
    },
    "kernelspec": {
      "display_name": "Python 3",
      "name": "python3"
    },
    "language_info": {
      "codemirror_mode": {
        "name": "ipython",
        "version": 3
      },
      "file_extension": ".py",
      "mimetype": "text/x-python",
      "name": "python",
      "nbconvert_exporter": "python",
      "pygments_lexer": "ipython3",
      "version": "3.11.1"
    }
  },
  "nbformat": 4,
  "nbformat_minor": 0
}
