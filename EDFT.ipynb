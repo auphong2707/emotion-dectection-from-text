{
  "nbformat": 4,
  "nbformat_minor": 0,
  "metadata": {
    "colab": {
      "provenance": [],
      "gpuType": "T4",
      "include_colab_link": true
    },
    "kernelspec": {
      "name": "python3",
      "display_name": "Python 3"
    },
    "language_info": {
      "name": "python"
    },
    "accelerator": "GPU"
  },
  "cells": [
    {
      "cell_type": "markdown",
      "metadata": {
        "id": "view-in-github",
        "colab_type": "text"
      },
      "source": [
        "<a href=\"https://colab.research.google.com/github/auphong2707/emotion-dectection-from-text/blob/preprocess-hotfix---Kleecon/EDFT.ipynb\" target=\"_parent\"><img src=\"https://colab.research.google.com/assets/colab-badge.svg\" alt=\"Open In Colab\"/></a>"
      ]
    },
    {
      "cell_type": "markdown",
      "source": [
        "# Introduction"
      ],
      "metadata": {
        "id": "AHEsUwSBCHbK"
      }
    },
    {
      "cell_type": "markdown",
      "source": [
        "The project aims to create a **Machine Learning** powered model which is capable of classifying the emotions of the text (in the form of short quotes/comments) with predefined labels of emotions."
      ],
      "metadata": {
        "id": "FRPrD_ccFVz9"
      }
    },
    {
      "cell_type": "markdown",
      "source": [
        "Emotion detection, also known as sentiment analysis, is now one of the most attractive subfields of Machine Learning, especially Natural Language Processing (NLP) due to its wide applications in many aspects of modern life, such as providing emotional information to help people developing insights or making decisions. In this project, we specifically try to convey the main emotion of a comment sentence. Generally, we expect the model to be able to take the input sentence in the form of short comments and returns its major emotion(s), corresponding to one of the predefined labels."
      ],
      "metadata": {
        "id": "TMh_xASYG7cZ"
      }
    },
    {
      "cell_type": "markdown",
      "source": [
        "Our approach to solving this problem is to split it into two halves:\n",
        "\n",
        "  1.   Data Preprocessing\n",
        "  2.   Model training and Result\n",
        "\n",
        "For detail of each half, please go into the section\n"
      ],
      "metadata": {
        "id": "T65Wg0STHA3s"
      }
    },
    {
      "cell_type": "markdown",
      "source": [
        "The dataset we use in this project is obtained from Kaggle: [EDFT Dataset](https://www.kaggle.com/datasets/praveengovi/emotions-dataset-for-nlp)"
      ],
      "metadata": {
        "id": "fDK4XIuNIgMl"
      }
    },
    {
      "cell_type": "markdown",
      "source": [
        "Connect to Google Drive"
      ],
      "metadata": {
        "id": "6CJSmsQlUZJt"
      }
    },
    {
      "cell_type": "markdown",
      "source": [
        "# **Data Preprocessing**"
      ],
      "metadata": {
        "id": "nj7DW4_mFDBh"
      }
    },
    {
      "cell_type": "markdown",
      "source": [
        "## Importation & Data loading"
      ],
      "metadata": {
        "id": "aDTriPXukNqb"
      }
    },
    {
      "cell_type": "code",
      "source": [
        "from google.colab import drive\n",
        "drive.mount('/content/drive')"
      ],
      "metadata": {
        "id": "2w5klLSgUYgY",
        "colab": {
          "base_uri": "https://localhost:8080/"
        },
        "outputId": "5d3f5c2c-a494-4d55-8ead-3d544f8490bb"
      },
      "execution_count": 4,
      "outputs": [
        {
          "output_type": "stream",
          "name": "stdout",
          "text": [
            "Mounted at /content/drive\n"
          ]
        }
      ]
    },
    {
      "cell_type": "markdown",
      "source": [
        "Preparing necessary packages (may need to add more):"
      ],
      "metadata": {
        "id": "NKqQ0TvIZSOK"
      }
    },
    {
      "cell_type": "code",
      "source": [
        "import numpy as np  # Work with multi-dimenional data\n",
        "import pandas as pd # Work with relational data\n",
        "import matplotlib.pyplot as plt # Visualize data\n",
        "import seaborn as sns # Visualize data base on matplotlib\n",
        "\n",
        "import warnings\n",
        "warnings.filterwarnings(\"ignore\")\n",
        "# Because I hate seeing stupid warnings~\n",
        "\n",
        "from sklearn.feature_extraction.text import CountVectorizer, TfidfTransformer, TfidfVectorizer\n",
        "# Used for automatic feature extraction\n",
        "from sklearn.pipeline import Pipeline\n",
        "# Used for automating processes"
      ],
      "metadata": {
        "id": "9TbRS-hBXsHe",
        "colab": {
          "base_uri": "https://localhost:8080/",
          "height": 370
        },
        "outputId": "09c9b435-466d-42fe-cc11-427af52ab98d"
      },
      "execution_count": 6,
      "outputs": [
        {
          "output_type": "error",
          "ename": "AttributeError",
          "evalue": "partially initialized module 'pandas' has no attribute 'core' (most likely due to a circular import)",
          "traceback": [
            "\u001b[0;31m---------------------------------------------------------------------------\u001b[0m",
            "\u001b[0;31mAttributeError\u001b[0m                            Traceback (most recent call last)",
            "\u001b[0;32m<ipython-input-6-abe15b7e7480>\u001b[0m in \u001b[0;36m<cell line: 2>\u001b[0;34m()\u001b[0m\n\u001b[1;32m      1\u001b[0m \u001b[0;32mimport\u001b[0m \u001b[0mnumpy\u001b[0m \u001b[0;32mas\u001b[0m \u001b[0mnp\u001b[0m  \u001b[0;31m# Work with multi-dimenional data\u001b[0m\u001b[0;34m\u001b[0m\u001b[0;34m\u001b[0m\u001b[0m\n\u001b[0;32m----> 2\u001b[0;31m \u001b[0;32mimport\u001b[0m \u001b[0mpandas\u001b[0m \u001b[0;32mas\u001b[0m \u001b[0mpd\u001b[0m \u001b[0;31m# Work with relational data\u001b[0m\u001b[0;34m\u001b[0m\u001b[0;34m\u001b[0m\u001b[0m\n\u001b[0m\u001b[1;32m      3\u001b[0m \u001b[0;32mimport\u001b[0m \u001b[0mmatplotlib\u001b[0m\u001b[0;34m.\u001b[0m\u001b[0mpyplot\u001b[0m \u001b[0;32mas\u001b[0m \u001b[0mplt\u001b[0m \u001b[0;31m# Visualize data\u001b[0m\u001b[0;34m\u001b[0m\u001b[0;34m\u001b[0m\u001b[0m\n\u001b[1;32m      4\u001b[0m \u001b[0;32mimport\u001b[0m \u001b[0mseaborn\u001b[0m \u001b[0;32mas\u001b[0m \u001b[0msns\u001b[0m \u001b[0;31m# Visualize data base on matplotlib\u001b[0m\u001b[0;34m\u001b[0m\u001b[0;34m\u001b[0m\u001b[0m\n\u001b[1;32m      5\u001b[0m \u001b[0;34m\u001b[0m\u001b[0m\n",
            "\u001b[0;32m/usr/local/lib/python3.10/dist-packages/pandas/__init__.py\u001b[0m in \u001b[0;36m<module>\u001b[0;34m\u001b[0m\n\u001b[1;32m    136\u001b[0m \u001b[0;34m\u001b[0m\u001b[0m\n\u001b[1;32m    137\u001b[0m \u001b[0;32mfrom\u001b[0m \u001b[0mpandas\u001b[0m \u001b[0;32mimport\u001b[0m \u001b[0mapi\u001b[0m\u001b[0;34m,\u001b[0m \u001b[0marrays\u001b[0m\u001b[0;34m,\u001b[0m \u001b[0merrors\u001b[0m\u001b[0;34m,\u001b[0m \u001b[0mio\u001b[0m\u001b[0;34m,\u001b[0m \u001b[0mplotting\u001b[0m\u001b[0;34m,\u001b[0m \u001b[0mtseries\u001b[0m\u001b[0;34m\u001b[0m\u001b[0;34m\u001b[0m\u001b[0m\n\u001b[0;32m--> 138\u001b[0;31m \u001b[0;32mfrom\u001b[0m \u001b[0mpandas\u001b[0m \u001b[0;32mimport\u001b[0m \u001b[0mtesting\u001b[0m  \u001b[0;31m# noqa:PDF015\u001b[0m\u001b[0;34m\u001b[0m\u001b[0;34m\u001b[0m\u001b[0m\n\u001b[0m\u001b[1;32m    139\u001b[0m \u001b[0;32mfrom\u001b[0m \u001b[0mpandas\u001b[0m\u001b[0;34m.\u001b[0m\u001b[0mutil\u001b[0m\u001b[0;34m.\u001b[0m\u001b[0m_print_versions\u001b[0m \u001b[0;32mimport\u001b[0m \u001b[0mshow_versions\u001b[0m\u001b[0;34m\u001b[0m\u001b[0;34m\u001b[0m\u001b[0m\n\u001b[1;32m    140\u001b[0m \u001b[0;34m\u001b[0m\u001b[0m\n",
            "\u001b[0;32m/usr/local/lib/python3.10/dist-packages/pandas/testing.py\u001b[0m in \u001b[0;36m<module>\u001b[0;34m\u001b[0m\n\u001b[1;32m      4\u001b[0m \u001b[0;34m\u001b[0m\u001b[0m\n\u001b[1;32m      5\u001b[0m \u001b[0;34m\u001b[0m\u001b[0m\n\u001b[0;32m----> 6\u001b[0;31m from pandas._testing import (\n\u001b[0m\u001b[1;32m      7\u001b[0m     \u001b[0massert_extension_array_equal\u001b[0m\u001b[0;34m,\u001b[0m\u001b[0;34m\u001b[0m\u001b[0;34m\u001b[0m\u001b[0m\n\u001b[1;32m      8\u001b[0m     \u001b[0massert_frame_equal\u001b[0m\u001b[0;34m,\u001b[0m\u001b[0;34m\u001b[0m\u001b[0;34m\u001b[0m\u001b[0m\n",
            "\u001b[0;32m/usr/local/lib/python3.10/dist-packages/pandas/_testing/__init__.py\u001b[0m in \u001b[0;36m<module>\u001b[0;34m\u001b[0m\n\u001b[1;32m    901\u001b[0m \u001b[0;34m\u001b[0m\u001b[0m\n\u001b[1;32m    902\u001b[0m \u001b[0;34m\u001b[0m\u001b[0m\n\u001b[0;32m--> 903\u001b[0;31m \u001b[0mcython_table\u001b[0m \u001b[0;34m=\u001b[0m \u001b[0mpd\u001b[0m\u001b[0;34m.\u001b[0m\u001b[0mcore\u001b[0m\u001b[0;34m.\u001b[0m\u001b[0mcommon\u001b[0m\u001b[0;34m.\u001b[0m\u001b[0m_cython_table\u001b[0m\u001b[0;34m.\u001b[0m\u001b[0mitems\u001b[0m\u001b[0;34m(\u001b[0m\u001b[0;34m)\u001b[0m\u001b[0;34m\u001b[0m\u001b[0;34m\u001b[0m\u001b[0m\n\u001b[0m\u001b[1;32m    904\u001b[0m \u001b[0;34m\u001b[0m\u001b[0m\n\u001b[1;32m    905\u001b[0m \u001b[0;34m\u001b[0m\u001b[0m\n",
            "\u001b[0;31mAttributeError\u001b[0m: partially initialized module 'pandas' has no attribute 'core' (most likely due to a circular import)"
          ]
        }
      ]
    },
    {
      "cell_type": "markdown",
      "source": [
        "Load data from files"
      ],
      "metadata": {
        "id": "bTgWau1hdl23"
      }
    },
    {
      "cell_type": "code",
      "source": [
        "%cd /content/drive/MyDrive/EDFT_data/\n",
        "\n",
        "# Get all data\n",
        "files = ['train.txt', 'val.txt']\n",
        "\n",
        "X_raw = list()\n",
        "Y_raw = list()\n",
        "for file in files:\n",
        "  f = open(file, 'r')\n",
        "  for line in f:\n",
        "    line = line.strip('\\n')\n",
        "    x_raw, y_raw = line.split(sep=';')\n",
        "\n",
        "    X_raw.append(x_raw)\n",
        "    Y_raw.append(y_raw)\n",
        "  f.close()"
      ],
      "metadata": {
        "id": "BY138Gindon3",
        "outputId": "f4dd0458-8519-44df-f150-b51f3a76c5d1",
        "colab": {
          "base_uri": "https://localhost:8080/"
        }
      },
      "execution_count": null,
      "outputs": [
        {
          "output_type": "stream",
          "name": "stdout",
          "text": [
            "/content/drive/MyDrive/EDFT_data\n"
          ]
        }
      ]
    },
    {
      "cell_type": "markdown",
      "source": [
        "## Feature Extraction\n"
      ],
      "metadata": {
        "id": "-UhsCl8HgxKV"
      }
    },
    {
      "cell_type": "markdown",
      "source": [
        "Removing the stopword (stop word list given at https://countwordsfree.com/stopwords)\n"
      ],
      "metadata": {
        "id": "MkacoVpjhG6O"
      }
    },
    {
      "cell_type": "code",
      "source": [
        "file = open(\"stop_words_english.txt\", 'r')\n",
        "stopword_list = file.read().split('\\n')\n",
        "file.close()\n",
        "\n",
        "# Due to the fact that the word \"feel\" takes too much space...\n",
        "stopword_list.append(\"feel\")\n",
        "stopword_list.append(\"feeling\")"
      ],
      "metadata": {
        "id": "0OCse4nNgaoy",
        "colab": {
          "base_uri": "https://localhost:8080/",
          "height": 219
        },
        "outputId": "7d6b72c2-0e6f-4cdf-9718-d08c83bd47d8"
      },
      "execution_count": 1,
      "outputs": [
        {
          "output_type": "error",
          "ename": "FileNotFoundError",
          "evalue": "[Errno 2] No such file or directory: 'stop_words_english.txt'",
          "traceback": [
            "\u001b[0;31m---------------------------------------------------------------------------\u001b[0m",
            "\u001b[0;31mFileNotFoundError\u001b[0m                         Traceback (most recent call last)",
            "\u001b[0;32m<ipython-input-1-9513a08237fc>\u001b[0m in \u001b[0;36m<cell line: 1>\u001b[0;34m()\u001b[0m\n\u001b[0;32m----> 1\u001b[0;31m \u001b[0mfile\u001b[0m \u001b[0;34m=\u001b[0m \u001b[0mopen\u001b[0m\u001b[0;34m(\u001b[0m\u001b[0;34m\"stop_words_english.txt\"\u001b[0m\u001b[0;34m,\u001b[0m \u001b[0;34m'r'\u001b[0m\u001b[0;34m)\u001b[0m\u001b[0;34m\u001b[0m\u001b[0;34m\u001b[0m\u001b[0m\n\u001b[0m\u001b[1;32m      2\u001b[0m \u001b[0mstopword_list\u001b[0m \u001b[0;34m=\u001b[0m \u001b[0mfile\u001b[0m\u001b[0;34m.\u001b[0m\u001b[0mread\u001b[0m\u001b[0;34m(\u001b[0m\u001b[0;34m)\u001b[0m\u001b[0;34m.\u001b[0m\u001b[0msplit\u001b[0m\u001b[0;34m(\u001b[0m\u001b[0;34m'\\n'\u001b[0m\u001b[0;34m)\u001b[0m\u001b[0;34m\u001b[0m\u001b[0;34m\u001b[0m\u001b[0m\n\u001b[1;32m      3\u001b[0m \u001b[0mfile\u001b[0m\u001b[0;34m.\u001b[0m\u001b[0mclose\u001b[0m\u001b[0;34m(\u001b[0m\u001b[0;34m)\u001b[0m\u001b[0;34m\u001b[0m\u001b[0;34m\u001b[0m\u001b[0m\n\u001b[1;32m      4\u001b[0m \u001b[0;34m\u001b[0m\u001b[0m\n\u001b[1;32m      5\u001b[0m \u001b[0;31m# Due to the fact that the word \"feel\" takes too much space...\u001b[0m\u001b[0;34m\u001b[0m\u001b[0;34m\u001b[0m\u001b[0m\n",
            "\u001b[0;31mFileNotFoundError\u001b[0m: [Errno 2] No such file or directory: 'stop_words_english.txt'"
          ]
        }
      ]
    },
    {
      "cell_type": "code",
      "source": [
        "# These codes do the same things\n",
        "\n",
        "# Handcode (edited to return bigrams as well)\n",
        "dictionary = set()\n",
        "c = 0\n",
        "for quoted in X_raw:\n",
        "  c += 1\n",
        "  if c == 2:\n",
        "    print(quoted)\n",
        "  quote = ' ' + quoted + ' '\n",
        "  for stopword in stopword_list:\n",
        "    quote = ' '.join(quote.split((' '+stopword+' ')))\n",
        "  quote = quote.split()\n",
        "  for i in range(len(quote)):\n",
        "    dictionary.add(quote[i])\n",
        "    if i != 0:\n",
        "      dictionary.add(' '.join([quote[i], quote[i-1]]))\n",
        "    break\n",
        "\n",
        "# Scikit (using CountVectorizer)\n",
        "count_vector = CountVectorizer(stop_words=stopword_list, ngram_range=(1, 2))\n",
        "bow = count_vector.fit_transform(X_raw)\n",
        "dictionary2 = count_vector.get_feature_names_out()\n",
        "for i in bow[1].nonzero()[1]:\n",
        "  print(count_vector.get_feature_names_out()[i])\n",
        "# bow already outputs the BoW array.\n",
        "# If you want to output the TF-IDF array, use TfidfVectorizer instead.\n",
        "\n",
        "# count_vector.vocabulary_.keys()\n",
        "\n",
        "tfidf_vector = TfidfVectorizer(stop_words=stopword_list, ngram_range=(1, 2))\n",
        "tfidf = tfidf_vector.fit_transform(X_raw)\n",
        "\n"
      ],
      "metadata": {
        "id": "lGO28dvenYmI",
        "outputId": "d5a95ef0-8886-489f-99f5-6eda53310a8f",
        "colab": {
          "base_uri": "https://localhost:8080/"
        }
      },
      "execution_count": null,
      "outputs": [
        {
          "output_type": "stream",
          "name": "stdout",
          "text": [
            "i can go from feeling so hopeless to so damned hopeful just from being around someone who cares and is awake\n",
            "feeling\n",
            "hopeless\n",
            "damned\n",
            "hopeful\n",
            "cares\n",
            "awake\n",
            "feeling hopeless\n",
            "hopeless damned\n",
            "damned hopeful\n",
            "hopeful cares\n",
            "cares awake\n"
          ]
        }
      ]
    },
    {
      "cell_type": "markdown",
      "source": [
        "*Luckily we're quite done with the abbreviations!*"
      ],
      "metadata": {
        "id": "4ob9acTnuVLG"
      }
    },
    {
      "cell_type": "markdown",
      "source": [
        "Another way: Using Word2Vec to capture the semantics\n",
        "(Um, we'd talk about that later, ok?)\n"
      ],
      "metadata": {
        "id": "cqwxPqeLvqH8"
      }
    },
    {
      "cell_type": "code",
      "source": [],
      "metadata": {
        "id": "uS4maCj-vvCe"
      },
      "execution_count": null,
      "outputs": []
    },
    {
      "cell_type": "markdown",
      "source": [
        "## Exploratory Data Analysis (EDA)"
      ],
      "metadata": {
        "id": "0Fhcc_aUTueC"
      }
    },
    {
      "cell_type": "markdown",
      "source": [
        "Average length of the comment:"
      ],
      "metadata": {
        "id": "2B0kWS9bktj2"
      }
    },
    {
      "cell_type": "code",
      "source": [
        "# Calculate average number of characters\n",
        "sum_of_chars = sum([len(x) for x in X_raw])\n",
        "mean_number_chars = sum_of_chars / len(X_raw)\n",
        "\n",
        "# Calculate average number of words\n",
        "sum_of_words = sum([len(x.split()) for x in X_raw])\n",
        "mean_number_words = sum_of_words / len(X_raw)\n",
        "\n",
        "# Print\n",
        "print('The mean number of characters of each line is: %d' % mean_number_chars)\n",
        "print('The mean number of words of each line is: %d' % mean_number_words)"
      ],
      "metadata": {
        "id": "3n36QobPkewe",
        "outputId": "a8286eef-6878-472b-85c6-86984a0a3537",
        "colab": {
          "base_uri": "https://localhost:8080/"
        }
      },
      "execution_count": null,
      "outputs": [
        {
          "output_type": "stream",
          "name": "stdout",
          "text": [
            "The mean number of characters of each line is: 96\n",
            "The mean number of words of each line is: 19\n"
          ]
        }
      ]
    },
    {
      "cell_type": "markdown",
      "source": [
        "Statistic of output labels:"
      ],
      "metadata": {
        "id": "VAZxbqwQpJ_H"
      }
    },
    {
      "cell_type": "code",
      "source": [
        "# Number of labels:\n",
        "labels = list(set(Y_raw))\n",
        "print('Number of labels is: %d' % len(labels))\n",
        "print('Labels: ' + ', '.join(labels))\n",
        "print('\\n----------------------------------------------------------------------------\\n')\n",
        "\n",
        "# Plot:\n",
        "label_elements_count = np.asarray([Y_raw.count(label) for label in labels])\n",
        "labels = np.asarray(labels)\n",
        "\n",
        "plt.title(label='Labels statistics')\n",
        "plt.xlabel('Labels')\n",
        "plt.ylabel('Count')\n",
        "\n",
        "plt.bar(x=labels, height=label_elements_count)\n",
        "\n",
        "plt.show()"
      ],
      "metadata": {
        "id": "uqs1jJTspQX5",
        "outputId": "d5e9f8e0-8554-4fe5-9854-7d8dce1a3c30",
        "colab": {
          "base_uri": "https://localhost:8080/",
          "height": 559
        }
      },
      "execution_count": null,
      "outputs": [
        {
          "output_type": "stream",
          "name": "stdout",
          "text": [
            "Number of labels is: 6\n",
            "Labels: love, sadness, anger, joy, surprise, fear\n",
            "\n",
            "----------------------------------------------------------------------------\n",
            "\n"
          ]
        },
        {
          "output_type": "display_data",
          "data": {
            "text/plain": [
              "<Figure size 640x480 with 1 Axes>"
            ],
            "image/png": "[encoded data removed]"
          },
          "metadata": {}
        }
      ]
    },
    {
      "cell_type": "markdown",
      "source": [
        "Statistics of words with the highest frequency of each label:"
      ],
      "metadata": {
        "id": "BNNYNBrIts1k"
      }
    },
    {
      "cell_type": "code",
      "source": [
        "vect_arr = bow.toarray()\n",
        "vect_aggr = np.zeros(shape=(len(labels), vect_arr.shape[1]))\n",
        "\n",
        "for idx in range(len(vect_arr)):\n",
        "  label_idx = int(np.where(labels==Y_raw[idx])[0][0])\n",
        "\n",
        "  vect_aggr[label_idx] += vect_arr[idx]"
      ],
      "metadata": {
        "id": "eieb8hWmtsT1"
      },
      "execution_count": null,
      "outputs": []
    },
    {
      "cell_type": "code",
      "source": [
        "fig, axs = plt.subplots(3, 2)\n",
        "\n",
        "for label_idx in range(len(labels)):\n",
        "  axs_x, axs_y = label_idx // 2, label_idx % 2\n",
        "\n",
        "  plt_ref = axs[axs_x][axs_y]\n",
        "  plt_ref.set_title(labels[label_idx].upper())\n",
        "\n",
        "  x_axis, y_axis = list(), list()\n",
        "  n_argmax = np.argpartition(vect_aggr[label_idx], -5)[-5:]\n",
        "  n_argmax = n_argmax[np.argsort(vect_aggr[label_idx][n_argmax])]\n",
        "  for i in n_argmax:\n",
        "    x_axis.append(dictionary2[i])\n",
        "    y_axis.append(vect_aggr[label_idx][i])\n",
        "\n",
        "  x_axis = np.asarray(x_axis)\n",
        "  y_axis = np.asarray(y_axis)\n",
        "\n",
        "  plt_ref.barh(x_axis, y_axis)\n",
        "\n",
        "# Adjust layout\n",
        "plt.tight_layout()\n",
        "\n",
        "# Show the plot\n",
        "plt.show()"
      ],
      "metadata": {
        "id": "-VDZBpa-0ces",
        "outputId": "f7b71657-591a-45d7-9856-62a05c7b755c",
        "colab": {
          "base_uri": "https://localhost:8080/",
          "height": 487
        }
      },
      "execution_count": null,
      "outputs": [
        {
          "output_type": "display_data",
          "data": {
            "text/plain": [
              "<Figure size 640x480 with 6 Axes>"
            ],
            "image/png": "[encoded data removed]"
          },
          "metadata": {}
        }
      ]
    },
    {
      "cell_type": "markdown",
      "source": [
        "# **Model training and result**"
      ],
      "metadata": {
        "id": "xgd9jGkTFGQF"
      }
    },
    {
      "cell_type": "markdown",
      "source": [
        "##General"
      ],
      "metadata": {
        "id": "lSnAfK_eZm1d"
      }
    },
    {
      "cell_type": "markdown",
      "source": [
        "We train some models from simple to complex:\n",
        "\n",
        "\n",
        "*   K-nearest neighbors (KNN)\n",
        "*   Naive Bayes Classification\n",
        "*   K-means clusters\n",
        "*   Neural network\n",
        "\n",
        "\n",
        "\n",
        "\n",
        "\n",
        "\n",
        "\n"
      ],
      "metadata": {
        "id": "6ol81Oa6Zoxn"
      }
    },
    {
      "cell_type": "markdown",
      "source": [
        "## K-nearest neighbors (KNN)"
      ],
      "metadata": {
        "id": "GhK_uRQbeKiA"
      }
    },
    {
      "cell_type": "markdown",
      "source": [
        "## Naive Bayes classification"
      ],
      "metadata": {
        "id": "bhO2ye_2eS8d"
      }
    },
    {
      "cell_type": "markdown",
      "source": [
        "# **Conclusion**"
      ],
      "metadata": {
        "id": "XPH1AE2JFN4y"
      }
    }
  ]
}