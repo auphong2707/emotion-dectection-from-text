{
 "cells": [
  {
   "cell_type": "markdown",
   "id": "c49f7309",
   "metadata": {
    "papermill": {
     "duration": 0.004999,
     "end_time": "2024-05-31T00:22:12.057606",
     "exception": false,
     "start_time": "2024-05-31T00:22:12.052607",
     "status": "completed"
    },
    "tags": []
   },
   "source": [
    "# Import packages"
   ]
  },
  {
   "cell_type": "code",
   "execution_count": 1,
   "id": "0b5fb480",
   "metadata": {
    "execution": {
     "iopub.execute_input": "2024-05-31T00:22:12.068306Z",
     "iopub.status.busy": "2024-05-31T00:22:12.068306Z",
     "iopub.status.idle": "2024-05-31T00:22:18.253649Z",
     "shell.execute_reply": "2024-05-31T00:22:18.253649Z"
    },
    "papermill": {
     "duration": 6.192045,
     "end_time": "2024-05-31T00:22:18.254651",
     "exception": false,
     "start_time": "2024-05-31T00:22:12.062606",
     "status": "completed"
    },
    "tags": []
   },
   "outputs": [
    {
     "name": "stderr",
     "output_type": "stream",
     "text": [
      "[nltk_data] Downloading package punkt to\n",
      "[nltk_data]     C:\\Users\\aupho\\AppData\\Roaming\\nltk_data...\n",
      "[nltk_data]   Package punkt is already up-to-date!\n"
     ]
    }
   ],
   "source": [
    "import numpy as np  # Work with multi-dimenional data\n",
    "import pandas as pd # Work with relational data\n",
    "import matplotlib.pyplot as plt # Visualize data\n",
    "import seaborn as sns # Visualize data base on matplotlib\n",
    "import nltk\n",
    "import pickle\n",
    "from nltk.stem import PorterStemmer\n",
    "from nltk.tokenize import word_tokenize\n",
    "from scipy import sparse\n",
    "from preset_function import *\n",
    "\n",
    "from sklearn.pipeline import Pipeline\n",
    "from sklearn.neighbors import KNeighborsClassifier\n",
    "from sklearn.naive_bayes import MultinomialNB\n",
    "from sklearn.tree import DecisionTreeClassifier\n",
    "from sklearn.linear_model import LogisticRegression\n",
    "from sklearn.svm import SVC\n",
    "from sklearn.ensemble import RandomForestClassifier\n",
    "\n",
    "nltk.download('punkt')\n",
    "\n",
    "import warnings\n",
    "warnings.filterwarnings(\"ignore\")\n",
    "\n",
    "from sklearn.feature_extraction.text import CountVectorizer, TfidfVectorizer\n",
    "from sklearn.model_selection import train_test_split"
   ]
  },
  {
   "cell_type": "markdown",
   "id": "3ccb42c9",
   "metadata": {
    "papermill": {
     "duration": 0.004001,
     "end_time": "2024-05-31T00:22:18.263668",
     "exception": false,
     "start_time": "2024-05-31T00:22:18.259667",
     "status": "completed"
    },
    "tags": []
   },
   "source": [
    "# Dataset"
   ]
  },
  {
   "cell_type": "markdown",
   "id": "6439f58f",
   "metadata": {
    "papermill": {
     "duration": 0.003999,
     "end_time": "2024-05-31T00:22:18.271676",
     "exception": false,
     "start_time": "2024-05-31T00:22:18.267677",
     "status": "completed"
    },
    "tags": []
   },
   "source": [
    "This is the dataset we used in model selection. In this notebook, we will use all the dataset to train the model"
   ]
  },
  {
   "cell_type": "code",
   "execution_count": 2,
   "id": "ffa90731",
   "metadata": {
    "execution": {
     "iopub.execute_input": "2024-05-31T00:22:18.281910Z",
     "iopub.status.busy": "2024-05-31T00:22:18.281910Z",
     "iopub.status.idle": "2024-05-31T00:22:18.284635Z",
     "shell.execute_reply": "2024-05-31T00:22:18.284635Z"
    },
    "papermill": {
     "duration": 0.008722,
     "end_time": "2024-05-31T00:22:18.285640",
     "exception": false,
     "start_time": "2024-05-31T00:22:18.276918",
     "status": "completed"
    },
    "tags": []
   },
   "outputs": [],
   "source": [
    "directory = 'data/dataset/raw/'\n",
    "\n",
    "# This method use to extract all the file in the input list\n",
    "def extract_data(files):\n",
    "  data_x_raw = list()\n",
    "  data_y_raw = list()\n",
    "  for file in files:\n",
    "    with open(directory + file) as f:\n",
    "      for line in f:\n",
    "        line = line.strip('\\n')\n",
    "        x_raw, y_raw = line.split(sep=';')\n",
    "\n",
    "        data_x_raw.append(x_raw)\n",
    "        data_y_raw.append(y_raw)\n",
    "\n",
    "  return data_x_raw, data_y_raw"
   ]
  },
  {
   "cell_type": "code",
   "execution_count": 3,
   "id": "0e53ecaa",
   "metadata": {
    "execution": {
     "iopub.execute_input": "2024-05-31T00:22:18.302647Z",
     "iopub.status.busy": "2024-05-31T00:22:18.301647Z",
     "iopub.status.idle": "2024-05-31T00:22:18.338464Z",
     "shell.execute_reply": "2024-05-31T00:22:18.338464Z"
    },
    "papermill": {
     "duration": 0.046829,
     "end_time": "2024-05-31T00:22:18.340466",
     "exception": false,
     "start_time": "2024-05-31T00:22:18.293637",
     "status": "completed"
    },
    "tags": []
   },
   "outputs": [],
   "source": [
    "X_train, y_train = extract_data(['train.txt', 'val.txt', 'test.txt'])"
   ]
  },
  {
   "cell_type": "markdown",
   "id": "0c89efc3",
   "metadata": {
    "papermill": {
     "duration": 0.007,
     "end_time": "2024-05-31T00:22:18.355466",
     "exception": false,
     "start_time": "2024-05-31T00:22:18.348466",
     "status": "completed"
    },
    "tags": []
   },
   "source": [
    "# Necessary preprocess"
   ]
  },
  {
   "cell_type": "code",
   "execution_count": 4,
   "id": "4dd64d24",
   "metadata": {
    "execution": {
     "iopub.execute_input": "2024-05-31T00:22:18.372977Z",
     "iopub.status.busy": "2024-05-31T00:22:18.372977Z",
     "iopub.status.idle": "2024-05-31T00:22:18.385250Z",
     "shell.execute_reply": "2024-05-31T00:22:18.384248Z"
    },
    "papermill": {
     "duration": 0.021783,
     "end_time": "2024-05-31T00:22:18.386251",
     "exception": false,
     "start_time": "2024-05-31T00:22:18.364468",
     "status": "completed"
    },
    "tags": []
   },
   "outputs": [
    {
     "name": "stdout",
     "output_type": "stream",
     "text": [
      "850\n"
     ]
    }
   ],
   "source": [
    "file = open(\"data/stopwords/stop_words_english.txt\", 'r', encoding='utf-8')\n",
    "stopword_list = file.read().split('\\n')\n",
    "file.close()\n",
    "print(len(stopword_list))"
   ]
  },
  {
   "cell_type": "code",
   "execution_count": 5,
   "id": "c0b201b5",
   "metadata": {
    "execution": {
     "iopub.execute_input": "2024-05-31T00:22:18.404250Z",
     "iopub.status.busy": "2024-05-31T00:22:18.404250Z",
     "iopub.status.idle": "2024-05-31T00:22:18.425618Z",
     "shell.execute_reply": "2024-05-31T00:22:18.425618Z"
    },
    "papermill": {
     "duration": 0.03337,
     "end_time": "2024-05-31T00:22:18.427620",
     "exception": false,
     "start_time": "2024-05-31T00:22:18.394250",
     "status": "completed"
    },
    "tags": []
   },
   "outputs": [
    {
     "name": "stdout",
     "output_type": "stream",
     "text": [
      "1029\n"
     ]
    },
    {
     "name": "stderr",
     "output_type": "stream",
     "text": [
      "[nltk_data] Downloading package stopwords to\n",
      "[nltk_data]     C:\\Users\\aupho\\AppData\\Roaming\\nltk_data...\n",
      "[nltk_data]   Package stopwords is already up-to-date!\n"
     ]
    }
   ],
   "source": [
    "file = open(\"data/stopwords/stop_words_english.txt\", 'r', encoding='utf-8')\n",
    "stop_words = file.read().split('\\n')\n",
    "\n",
    "import nltk\n",
    "from nltk.corpus import stopwords\n",
    " \n",
    "nltk.download('stopwords')\n",
    "tmp = stopwords.words('english')\n",
    "\n",
    "unfiltered_stopwords = stop_words + tmp\n",
    "\n",
    "print(len(unfiltered_stopwords))"
   ]
  },
  {
   "cell_type": "code",
   "execution_count": 6,
   "id": "05258831",
   "metadata": {
    "execution": {
     "iopub.execute_input": "2024-05-31T00:22:18.444620Z",
     "iopub.status.busy": "2024-05-31T00:22:18.443621Z",
     "iopub.status.idle": "2024-05-31T00:22:18.448009Z",
     "shell.execute_reply": "2024-05-31T00:22:18.448009Z"
    },
    "papermill": {
     "duration": 0.014391,
     "end_time": "2024-05-31T00:22:18.450011",
     "exception": false,
     "start_time": "2024-05-31T00:22:18.435620",
     "status": "completed"
    },
    "tags": []
   },
   "outputs": [],
   "source": [
    "stemmer = PorterStemmer()\n",
    "\n",
    "def unfiltered_tokenize(text):\n",
    "    tokens = word_tokenize(text)\n",
    "    tokens = [word for word in tokens if word not in unfiltered_stopwords]\n",
    "    stems = [stemmer.stem(token) for token in tokens]\n",
    "    return stems"
   ]
  },
  {
   "cell_type": "markdown",
   "id": "95b10ee1",
   "metadata": {
    "papermill": {
     "duration": 0.009,
     "end_time": "2024-05-31T00:22:18.467013",
     "exception": false,
     "start_time": "2024-05-31T00:22:18.458013",
     "status": "completed"
    },
    "tags": []
   },
   "source": [
    "# Train and export"
   ]
  },
  {
   "cell_type": "markdown",
   "id": "a2db6776",
   "metadata": {
    "papermill": {
     "duration": 0.008,
     "end_time": "2024-05-31T00:22:18.483521",
     "exception": false,
     "start_time": "2024-05-31T00:22:18.475521",
     "status": "completed"
    },
    "tags": []
   },
   "source": [
    "This section will split into 4 subsection since we have 4 ways to process the data"
   ]
  },
  {
   "cell_type": "markdown",
   "id": "d68a5ade",
   "metadata": {
    "papermill": {
     "duration": 0.008991,
     "end_time": "2024-05-31T00:22:18.500521",
     "exception": false,
     "start_time": "2024-05-31T00:22:18.491530",
     "status": "completed"
    },
    "tags": []
   },
   "source": [
    "## Bag of words"
   ]
  },
  {
   "cell_type": "markdown",
   "id": "d6f6556c",
   "metadata": {
    "papermill": {
     "duration": 0.008992,
     "end_time": "2024-05-31T00:22:18.517521",
     "exception": false,
     "start_time": "2024-05-31T00:22:18.508529",
     "status": "completed"
    },
    "tags": []
   },
   "source": [
    "First we recreate the count vectorizer from the origin dataset. Then, we vectorize 2 dataset with that vectorizer"
   ]
  },
  {
   "cell_type": "code",
   "execution_count": 7,
   "id": "1f54e359",
   "metadata": {
    "execution": {
     "iopub.execute_input": "2024-05-31T00:22:18.531522Z",
     "iopub.status.busy": "2024-05-31T00:22:18.531522Z",
     "iopub.status.idle": "2024-05-31T00:22:18.533725Z",
     "shell.execute_reply": "2024-05-31T00:22:18.533725Z"
    },
    "papermill": {
     "duration": 0.009212,
     "end_time": "2024-05-31T00:22:18.534733",
     "exception": false,
     "start_time": "2024-05-31T00:22:18.525521",
     "status": "completed"
    },
    "tags": []
   },
   "outputs": [],
   "source": [
    "count_vector = CountVectorizer(stop_words=unfiltered_stopwords, tokenizer=unfiltered_tokenize, ngram_range=(1, 2))\n",
    "directory = \"data/models/BoW/\""
   ]
  },
  {
   "cell_type": "markdown",
   "id": "ec52906b",
   "metadata": {
    "papermill": {
     "duration": 0.005083,
     "end_time": "2024-05-31T00:22:18.543816",
     "exception": false,
     "start_time": "2024-05-31T00:22:18.538733",
     "status": "completed"
    },
    "tags": []
   },
   "source": [
    "### kNN"
   ]
  },
  {
   "cell_type": "code",
   "execution_count": 8,
   "id": "d602ca24",
   "metadata": {
    "execution": {
     "iopub.execute_input": "2024-05-31T00:22:18.553758Z",
     "iopub.status.busy": "2024-05-31T00:22:18.552733Z",
     "iopub.status.idle": "2024-05-31T00:22:24.948750Z",
     "shell.execute_reply": "2024-05-31T00:22:24.947740Z"
    },
    "papermill": {
     "duration": 6.401017,
     "end_time": "2024-05-31T00:22:24.948750",
     "exception": false,
     "start_time": "2024-05-31T00:22:18.547733",
     "status": "completed"
    },
    "tags": []
   },
   "outputs": [],
   "source": [
    "pipeline = Pipeline([\n",
    "    ('vectorizer', count_vector),\n",
    "    ('clf', KNeighborsClassifier(n_neighbors = 2, p = 1, weights = 'distance'))\n",
    "])\n",
    "pipeline.fit(X_train, y_train)\n",
    "with open(directory + \"kNN.pkl\", 'wb') as f:\n",
    "    pickle.dump(pipeline, f)"
   ]
  },
  {
   "cell_type": "markdown",
   "id": "9cc69d16",
   "metadata": {
    "papermill": {
     "duration": 0.008999,
     "end_time": "2024-05-31T00:22:24.962750",
     "exception": false,
     "start_time": "2024-05-31T00:22:24.953751",
     "status": "completed"
    },
    "tags": []
   },
   "source": [
    "### Naive Bayes"
   ]
  },
  {
   "cell_type": "code",
   "execution_count": 9,
   "id": "f0d74f1e",
   "metadata": {
    "execution": {
     "iopub.execute_input": "2024-05-31T00:22:24.980294Z",
     "iopub.status.busy": "2024-05-31T00:22:24.980294Z",
     "iopub.status.idle": "2024-05-31T00:22:31.028018Z",
     "shell.execute_reply": "2024-05-31T00:22:31.028018Z"
    },
    "papermill": {
     "duration": 6.059267,
     "end_time": "2024-05-31T00:22:31.030021",
     "exception": false,
     "start_time": "2024-05-31T00:22:24.970754",
     "status": "completed"
    },
    "tags": []
   },
   "outputs": [],
   "source": [
    "pipeline = Pipeline([\n",
    "    ('vectorizer', count_vector),\n",
    "    ('clf', MultinomialNB(alpha=0.5))\n",
    "])\n",
    "pipeline.fit(X_train, y_train)\n",
    "with open(directory + \"NB.pkl\", 'wb') as f:\n",
    "    pickle.dump(pipeline, f)"
   ]
  },
  {
   "cell_type": "markdown",
   "id": "c1c05cab",
   "metadata": {
    "papermill": {
     "duration": 0.01,
     "end_time": "2024-05-31T00:22:31.051021",
     "exception": false,
     "start_time": "2024-05-31T00:22:31.041021",
     "status": "completed"
    },
    "tags": []
   },
   "source": [
    "### Decision Tree"
   ]
  },
  {
   "cell_type": "code",
   "execution_count": 10,
   "id": "a3bb24b1",
   "metadata": {
    "execution": {
     "iopub.execute_input": "2024-05-31T00:22:31.069033Z",
     "iopub.status.busy": "2024-05-31T00:22:31.068020Z",
     "iopub.status.idle": "2024-05-31T00:22:44.986678Z",
     "shell.execute_reply": "2024-05-31T00:22:44.986678Z"
    },
    "papermill": {
     "duration": 13.929655,
     "end_time": "2024-05-31T00:22:44.988684",
     "exception": false,
     "start_time": "2024-05-31T00:22:31.059029",
     "status": "completed"
    },
    "tags": []
   },
   "outputs": [],
   "source": [
    "pipeline = Pipeline([\n",
    "    ('vectorizer', count_vector),\n",
    "    ('clf', DecisionTreeClassifier(max_depth=2500, min_samples_leaf=2, min_samples_split=1000, max_leaf_nodes=310))\n",
    "])\n",
    "pipeline.fit(X_train, y_train)\n",
    "with open(directory + \"DT.pkl\", 'wb') as f:\n",
    "    pickle.dump(pipeline, f)"
   ]
  },
  {
   "cell_type": "markdown",
   "id": "7226eac0",
   "metadata": {
    "papermill": {
     "duration": 0.009,
     "end_time": "2024-05-31T00:22:45.006192",
     "exception": false,
     "start_time": "2024-05-31T00:22:44.997192",
     "status": "completed"
    },
    "tags": []
   },
   "source": [
    "### Support vector machine"
   ]
  },
  {
   "cell_type": "code",
   "execution_count": 11,
   "id": "ddddb131",
   "metadata": {
    "execution": {
     "iopub.execute_input": "2024-05-31T00:22:45.025193Z",
     "iopub.status.busy": "2024-05-31T00:22:45.024192Z",
     "iopub.status.idle": "2024-05-31T00:23:28.613454Z",
     "shell.execute_reply": "2024-05-31T00:23:28.613454Z"
    },
    "papermill": {
     "duration": 43.599275,
     "end_time": "2024-05-31T00:23:28.614466",
     "exception": false,
     "start_time": "2024-05-31T00:22:45.015191",
     "status": "completed"
    },
    "tags": []
   },
   "outputs": [],
   "source": [
    "pipeline = Pipeline([\n",
    "    ('vectorizer', count_vector),\n",
    "    ('clf', SVC(C=50.0, gamma=0.001291549665014884))\n",
    "])\n",
    "pipeline.fit(X_train, y_train)\n",
    "with open(directory + \"SVM.pkl\", 'wb') as f:\n",
    "    pickle.dump(pipeline, f)"
   ]
  },
  {
   "cell_type": "markdown",
   "id": "8db6dd50",
   "metadata": {
    "papermill": {
     "duration": 0.008003,
     "end_time": "2024-05-31T00:23:28.631545",
     "exception": false,
     "start_time": "2024-05-31T00:23:28.623542",
     "status": "completed"
    },
    "tags": []
   },
   "source": [
    "### Logistic Regression (OvR)"
   ]
  },
  {
   "cell_type": "code",
   "execution_count": 12,
   "id": "f1d1ed9f",
   "metadata": {
    "execution": {
     "iopub.execute_input": "2024-05-31T00:23:28.649468Z",
     "iopub.status.busy": "2024-05-31T00:23:28.648468Z",
     "iopub.status.idle": "2024-05-31T00:27:18.524285Z",
     "shell.execute_reply": "2024-05-31T00:27:18.524285Z"
    },
    "papermill": {
     "duration": 229.886069,
     "end_time": "2024-05-31T00:27:18.525612",
     "exception": false,
     "start_time": "2024-05-31T00:23:28.639543",
     "status": "completed"
    },
    "tags": []
   },
   "outputs": [],
   "source": [
    "pipeline = Pipeline([\n",
    "    ('vectorizer', count_vector),\n",
    "    ('clf', LogisticRegression(C=3.1622776601683795, l1_ratio=0.9, multi_class='ovr', penalty='elasticnet', solver='saga'))\n",
    "])\n",
    "pipeline.fit(X_train, y_train)\n",
    "with open(directory + \"LR.pkl\", 'wb') as f:\n",
    "    pickle.dump(pipeline, f)"
   ]
  },
  {
   "cell_type": "markdown",
   "id": "8ff106fe",
   "metadata": {
    "papermill": {
     "duration": 0.004034,
     "end_time": "2024-05-31T00:27:18.534849",
     "exception": false,
     "start_time": "2024-05-31T00:27:18.530815",
     "status": "completed"
    },
    "tags": []
   },
   "source": [
    "### Random forest"
   ]
  },
  {
   "cell_type": "code",
   "execution_count": 13,
   "id": "24c378db",
   "metadata": {
    "execution": {
     "iopub.execute_input": "2024-05-31T00:27:18.544355Z",
     "iopub.status.busy": "2024-05-31T00:27:18.544355Z",
     "iopub.status.idle": "2024-05-31T00:30:56.578395Z",
     "shell.execute_reply": "2024-05-31T00:30:56.578395Z"
    },
    "papermill": {
     "duration": 218.040629,
     "end_time": "2024-05-31T00:30:56.580478",
     "exception": false,
     "start_time": "2024-05-31T00:27:18.539849",
     "status": "completed"
    },
    "tags": []
   },
   "outputs": [],
   "source": [
    "pipeline = Pipeline([\n",
    "    ('vectorizer', count_vector),\n",
    "    ('clf', RandomForestClassifier(max_depth=1000, max_features=200, min_samples_split=25, n_estimators=512))\n",
    "])\n",
    "pipeline.fit(X_train, y_train)\n",
    "with open(directory + \"RF.pkl\", 'wb') as f:\n",
    "    pickle.dump(pipeline, f)"
   ]
  },
  {
   "cell_type": "markdown",
   "id": "468938d6",
   "metadata": {
    "papermill": {
     "duration": 0.0087,
     "end_time": "2024-05-31T00:30:56.629948",
     "exception": false,
     "start_time": "2024-05-31T00:30:56.621248",
     "status": "completed"
    },
    "tags": []
   },
   "source": [
    "### Softmax regression"
   ]
  },
  {
   "cell_type": "code",
   "execution_count": 14,
   "id": "124a5c86",
   "metadata": {
    "execution": {
     "iopub.execute_input": "2024-05-31T00:30:56.647928Z",
     "iopub.status.busy": "2024-05-31T00:30:56.647928Z",
     "iopub.status.idle": "2024-05-31T00:32:18.739443Z",
     "shell.execute_reply": "2024-05-31T00:32:18.738329Z"
    },
    "papermill": {
     "duration": 82.101463,
     "end_time": "2024-05-31T00:32:18.740406",
     "exception": false,
     "start_time": "2024-05-31T00:30:56.638943",
     "status": "completed"
    },
    "tags": []
   },
   "outputs": [],
   "source": [
    "pipeline = Pipeline([\n",
    "    ('vectorizer', count_vector),\n",
    "    ('clf', LogisticRegression(C=1, l1_ratio=0.9, multi_class='multinomial', penalty='elasticnet', solver='saga'))\n",
    "])\n",
    "pipeline.fit(X_train, y_train)\n",
    "with open(directory + \"SR.pkl\", 'wb') as f:\n",
    "    pickle.dump(pipeline, f)"
   ]
  },
  {
   "cell_type": "markdown",
   "id": "40058640",
   "metadata": {
    "papermill": {
     "duration": 0.008089,
     "end_time": "2024-05-31T00:32:18.757927",
     "exception": false,
     "start_time": "2024-05-31T00:32:18.749838",
     "status": "completed"
    },
    "tags": []
   },
   "source": [
    "## BoW/TF-IDF"
   ]
  },
  {
   "cell_type": "code",
   "execution_count": 15,
   "id": "18bee5cd",
   "metadata": {
    "execution": {
     "iopub.execute_input": "2024-05-31T00:32:18.796685Z",
     "iopub.status.busy": "2024-05-31T00:32:18.796685Z",
     "iopub.status.idle": "2024-05-31T00:32:18.800136Z",
     "shell.execute_reply": "2024-05-31T00:32:18.800136Z"
    },
    "papermill": {
     "duration": 0.015573,
     "end_time": "2024-05-31T00:32:18.802167",
     "exception": false,
     "start_time": "2024-05-31T00:32:18.786594",
     "status": "completed"
    },
    "tags": []
   },
   "outputs": [],
   "source": [
    "tfidf_vector = TfidfVectorizer(stop_words=unfiltered_stopwords, tokenizer=unfiltered_tokenize, ngram_range=(1, 2))\n",
    "directory = 'data/models/TF-IDF/'"
   ]
  },
  {
   "cell_type": "markdown",
   "id": "d6bb971d",
   "metadata": {
    "papermill": {
     "duration": 0.010023,
     "end_time": "2024-05-31T00:32:18.822564",
     "exception": false,
     "start_time": "2024-05-31T00:32:18.812541",
     "status": "completed"
    },
    "tags": []
   },
   "source": [
    "### kNN"
   ]
  },
  {
   "cell_type": "code",
   "execution_count": 16,
   "id": "45a106cb",
   "metadata": {
    "execution": {
     "iopub.execute_input": "2024-05-31T00:32:18.844130Z",
     "iopub.status.busy": "2024-05-31T00:32:18.843130Z",
     "iopub.status.idle": "2024-05-31T00:32:31.249167Z",
     "shell.execute_reply": "2024-05-31T00:32:31.249167Z"
    },
    "papermill": {
     "duration": 12.419059,
     "end_time": "2024-05-31T00:32:31.251174",
     "exception": false,
     "start_time": "2024-05-31T00:32:18.832115",
     "status": "completed"
    },
    "tags": []
   },
   "outputs": [],
   "source": [
    "pipeline = Pipeline([\n",
    "    ('vectorizer', tfidf_vector),\n",
    "    ('clf', KNeighborsClassifier(n_neighbors = 24, p = 2, weights = 'uniform'))\n",
    "])\n",
    "pipeline.fit(X_train, y_train)\n",
    "with open(directory + \"kNN.pkl\", 'wb') as f:\n",
    "    pickle.dump(pipeline, f)"
   ]
  },
  {
   "cell_type": "markdown",
   "id": "3b818ff0",
   "metadata": {
    "papermill": {
     "duration": 0.009026,
     "end_time": "2024-05-31T00:32:31.268199",
     "exception": false,
     "start_time": "2024-05-31T00:32:31.259173",
     "status": "completed"
    },
    "tags": []
   },
   "source": [
    "### Naive Bayes"
   ]
  },
  {
   "cell_type": "code",
   "execution_count": 17,
   "id": "e8e4e8b6",
   "metadata": {
    "execution": {
     "iopub.execute_input": "2024-05-31T00:32:31.286397Z",
     "iopub.status.busy": "2024-05-31T00:32:31.285398Z",
     "iopub.status.idle": "2024-05-31T00:32:44.085644Z",
     "shell.execute_reply": "2024-05-31T00:32:44.085644Z"
    },
    "papermill": {
     "duration": 12.811441,
     "end_time": "2024-05-31T00:32:44.087732",
     "exception": false,
     "start_time": "2024-05-31T00:32:31.276291",
     "status": "completed"
    },
    "tags": []
   },
   "outputs": [],
   "source": [
    "pipeline = Pipeline([\n",
    "    ('vectorizer', tfidf_vector),\n",
    "    ('clf', MultinomialNB(alpha=0.1))\n",
    "])\n",
    "pipeline.fit(X_train, y_train)\n",
    "with open(directory + \"NB.pkl\", 'wb') as f:\n",
    "    pickle.dump(pipeline, f)"
   ]
  },
  {
   "cell_type": "markdown",
   "id": "528eb08b",
   "metadata": {
    "papermill": {
     "duration": 0.007987,
     "end_time": "2024-05-31T00:32:44.104721",
     "exception": false,
     "start_time": "2024-05-31T00:32:44.096734",
     "status": "completed"
    },
    "tags": []
   },
   "source": [
    "### Decision Tree"
   ]
  },
  {
   "cell_type": "code",
   "execution_count": 18,
   "id": "ecf17218",
   "metadata": {
    "execution": {
     "iopub.execute_input": "2024-05-31T00:32:44.122724Z",
     "iopub.status.busy": "2024-05-31T00:32:44.122724Z",
     "iopub.status.idle": "2024-05-31T00:33:08.939668Z",
     "shell.execute_reply": "2024-05-31T00:33:08.939668Z"
    },
    "papermill": {
     "duration": 24.828031,
     "end_time": "2024-05-31T00:33:08.941760",
     "exception": false,
     "start_time": "2024-05-31T00:32:44.113729",
     "status": "completed"
    },
    "tags": []
   },
   "outputs": [],
   "source": [
    "pipeline = Pipeline([\n",
    "    ('vectorizer', tfidf_vector),\n",
    "    ('clf', DecisionTreeClassifier(max_depth=2000, min_samples_leaf=3,\n",
    "                                  min_samples_split=500, max_leaf_nodes=250))\n",
    "])\n",
    "pipeline.fit(X_train, y_train)\n",
    "with open(directory + \"DT.pkl\", 'wb') as f:\n",
    "    pickle.dump(pipeline, f)"
   ]
  },
  {
   "cell_type": "markdown",
   "id": "515e3005",
   "metadata": {
    "papermill": {
     "duration": 0.008035,
     "end_time": "2024-05-31T00:33:08.958753",
     "exception": false,
     "start_time": "2024-05-31T00:33:08.950718",
     "status": "completed"
    },
    "tags": []
   },
   "source": [
    "### Support vector machine"
   ]
  },
  {
   "cell_type": "code",
   "execution_count": 19,
   "id": "99b97b74",
   "metadata": {
    "execution": {
     "iopub.execute_input": "2024-05-31T00:33:08.976760Z",
     "iopub.status.busy": "2024-05-31T00:33:08.976760Z",
     "iopub.status.idle": "2024-05-31T00:35:09.615652Z",
     "shell.execute_reply": "2024-05-31T00:35:09.614651Z"
    },
    "papermill": {
     "duration": 120.649956,
     "end_time": "2024-05-31T00:35:09.616707",
     "exception": false,
     "start_time": "2024-05-31T00:33:08.966751",
     "status": "completed"
    },
    "tags": []
   },
   "outputs": [],
   "source": [
    "pipeline = Pipeline([\n",
    "    ('vectorizer', tfidf_vector),\n",
    "    ('clf', SVC(kernel='linear', C=1.25))\n",
    "])\n",
    "pipeline.fit(X_train, y_train)\n",
    "with open(directory + \"SVM.pkl\", 'wb') as f:\n",
    "    pickle.dump(pipeline, f)"
   ]
  },
  {
   "cell_type": "markdown",
   "id": "62e26e35",
   "metadata": {
    "papermill": {
     "duration": 0.008926,
     "end_time": "2024-05-31T00:35:09.634662",
     "exception": false,
     "start_time": "2024-05-31T00:35:09.625736",
     "status": "completed"
    },
    "tags": []
   },
   "source": [
    "### Logistic Regression (OvR)"
   ]
  },
  {
   "cell_type": "code",
   "execution_count": 20,
   "id": "ede1f170",
   "metadata": {
    "execution": {
     "iopub.execute_input": "2024-05-31T00:35:09.652661Z",
     "iopub.status.busy": "2024-05-31T00:35:09.652661Z",
     "iopub.status.idle": "2024-05-31T00:43:32.682626Z",
     "shell.execute_reply": "2024-05-31T00:43:32.682117Z"
    },
    "papermill": {
     "duration": 503.042214,
     "end_time": "2024-05-31T00:43:32.684876",
     "exception": false,
     "start_time": "2024-05-31T00:35:09.642662",
     "status": "completed"
    },
    "tags": []
   },
   "outputs": [],
   "source": [
    "pipeline = Pipeline([\n",
    "    ('vectorizer', tfidf_vector),\n",
    "    ('clf', LogisticRegression(C=25.118864315095795, l1_ratio=0.9, multi_class='ovr',\n",
    "                              penalty='elasticnet', solver='saga'))\n",
    "])\n",
    "pipeline.fit(X_train, y_train)\n",
    "with open(directory + \"LR.pkl\", 'wb') as f:\n",
    "    pickle.dump(pipeline, f)"
   ]
  },
  {
   "cell_type": "markdown",
   "id": "6d69c422",
   "metadata": {
    "papermill": {
     "duration": 0.009066,
     "end_time": "2024-05-31T00:43:32.702614",
     "exception": false,
     "start_time": "2024-05-31T00:43:32.693548",
     "status": "completed"
    },
    "tags": []
   },
   "source": [
    "### Random forest"
   ]
  },
  {
   "cell_type": "code",
   "execution_count": 21,
   "id": "e1f6e09c",
   "metadata": {
    "execution": {
     "iopub.execute_input": "2024-05-31T00:43:32.721561Z",
     "iopub.status.busy": "2024-05-31T00:43:32.721561Z",
     "iopub.status.idle": "2024-05-31T00:45:45.484080Z",
     "shell.execute_reply": "2024-05-31T00:45:45.484080Z"
    },
    "papermill": {
     "duration": 132.775363,
     "end_time": "2024-05-31T00:45:45.486183",
     "exception": false,
     "start_time": "2024-05-31T00:43:32.710820",
     "status": "completed"
    },
    "tags": []
   },
   "outputs": [],
   "source": [
    "pipeline = Pipeline([\n",
    "    ('vectorizer', tfidf_vector),\n",
    "    ('clf', RandomForestClassifier(max_depth=5000, max_features=300, min_samples_split=25, n_estimators=256))\n",
    "])\n",
    "pipeline.fit(X_train, y_train)\n",
    "with open(directory + \"RF.pkl\", 'wb') as f:\n",
    "    pickle.dump(pipeline, f)"
   ]
  },
  {
   "cell_type": "markdown",
   "id": "56fc4213",
   "metadata": {
    "papermill": {
     "duration": 0.00915,
     "end_time": "2024-05-31T00:45:45.503660",
     "exception": false,
     "start_time": "2024-05-31T00:45:45.494510",
     "status": "completed"
    },
    "tags": []
   },
   "source": [
    "### Softmax regression"
   ]
  },
  {
   "cell_type": "code",
   "execution_count": 22,
   "id": "77bffda3",
   "metadata": {
    "execution": {
     "iopub.execute_input": "2024-05-31T00:45:45.521257Z",
     "iopub.status.busy": "2024-05-31T00:45:45.521257Z",
     "iopub.status.idle": "2024-05-31T00:47:16.648294Z",
     "shell.execute_reply": "2024-05-31T00:47:16.647004Z"
    },
    "papermill": {
     "duration": 91.136802,
     "end_time": "2024-05-31T00:47:16.649296",
     "exception": false,
     "start_time": "2024-05-31T00:45:45.512494",
     "status": "completed"
    },
    "tags": []
   },
   "outputs": [],
   "source": [
    "pipeline = Pipeline([\n",
    "    ('vectorizer', tfidf_vector),\n",
    "    ('clf', LogisticRegression(C=3.1622776601683795, l1_ratio=0.9, multi_class='multinomial', penalty='elasticnet', solver='saga'))\n",
    "])\n",
    "pipeline.fit(X_train, y_train)\n",
    "with open(directory + \"SR.pkl\", 'wb') as f:\n",
    "    pickle.dump(pipeline, f)"
   ]
  },
  {
   "cell_type": "markdown",
   "id": "a54899ed",
   "metadata": {
    "papermill": {
     "duration": 0.008409,
     "end_time": "2024-05-31T00:47:16.666947",
     "exception": false,
     "start_time": "2024-05-31T00:47:16.658538",
     "status": "completed"
    },
    "tags": []
   },
   "source": [
    "## Bag of words (L1 regularization removal)"
   ]
  },
  {
   "cell_type": "markdown",
   "id": "d85bd6f3",
   "metadata": {
    "papermill": {
     "duration": 0.008046,
     "end_time": "2024-05-31T00:47:16.684386",
     "exception": false,
     "start_time": "2024-05-31T00:47:16.676340",
     "status": "completed"
    },
    "tags": []
   },
   "source": [
    "Vectorize in the new way:"
   ]
  },
  {
   "cell_type": "code",
   "execution_count": 23,
   "id": "8cfc7616",
   "metadata": {
    "execution": {
     "iopub.execute_input": "2024-05-31T00:47:16.702652Z",
     "iopub.status.busy": "2024-05-31T00:47:16.702652Z",
     "iopub.status.idle": "2024-05-31T00:47:16.733294Z",
     "shell.execute_reply": "2024-05-31T00:47:16.732700Z"
    },
    "papermill": {
     "duration": 0.041232,
     "end_time": "2024-05-31T00:47:16.734506",
     "exception": false,
     "start_time": "2024-05-31T00:47:16.693274",
     "status": "completed"
    },
    "tags": []
   },
   "outputs": [
    {
     "name": "stdout",
     "output_type": "stream",
     "text": [
      "Length of new stopwords list: 10622\n"
     ]
    }
   ],
   "source": [
    "file = open(\"data/stopwords/useless.txt\", 'r', encoding='utf-8')\n",
    "useless = file.read().split()\n",
    "\n",
    "L1_stopwords = unfiltered_stopwords + useless\n",
    "print(\"Length of new stopwords list:\", len(L1_stopwords))\n",
    "\n",
    "def useless_tokenize(text):\n",
    "    tokens = word_tokenize(text)\n",
    "    tokens = [word for word in tokens if word not in L1_stopwords]\n",
    "    stems = [stemmer.stem(token) for token in tokens]\n",
    "    return stems\n",
    "\n",
    "count_vector = CountVectorizer(stop_words=L1_stopwords, tokenizer=useless_tokenize, ngram_range=(1, 2))\n",
    "directory = 'data/models/BoW L1/'"
   ]
  },
  {
   "cell_type": "markdown",
   "id": "44caca22",
   "metadata": {
    "papermill": {
     "duration": 0.007775,
     "end_time": "2024-05-31T00:47:16.751184",
     "exception": false,
     "start_time": "2024-05-31T00:47:16.743409",
     "status": "completed"
    },
    "tags": []
   },
   "source": [
    "### kNN"
   ]
  },
  {
   "cell_type": "code",
   "execution_count": 24,
   "id": "23fa83cd",
   "metadata": {
    "execution": {
     "iopub.execute_input": "2024-05-31T00:47:16.771034Z",
     "iopub.status.busy": "2024-05-31T00:47:16.770035Z",
     "iopub.status.idle": "2024-05-31T00:47:53.014786Z",
     "shell.execute_reply": "2024-05-31T00:47:53.014786Z"
    },
    "papermill": {
     "duration": 36.255874,
     "end_time": "2024-05-31T00:47:53.016535",
     "exception": false,
     "start_time": "2024-05-31T00:47:16.760661",
     "status": "completed"
    },
    "tags": []
   },
   "outputs": [],
   "source": [
    "pipeline = Pipeline([\n",
    "    ('vectorizer', count_vector),\n",
    "    ('clf', KNeighborsClassifier(n_neighbors = 3, p = 1, weights = 'uniform'))\n",
    "])\n",
    "pipeline.fit(X_train, y_train)\n",
    "with open(directory + \"kNN.pkl\", 'wb') as f:\n",
    "    pickle.dump(pipeline, f)"
   ]
  },
  {
   "cell_type": "markdown",
   "id": "779063d1",
   "metadata": {
    "papermill": {
     "duration": 0.008444,
     "end_time": "2024-05-31T00:47:53.035375",
     "exception": false,
     "start_time": "2024-05-31T00:47:53.026931",
     "status": "completed"
    },
    "tags": []
   },
   "source": [
    "### Naive Bayes"
   ]
  },
  {
   "cell_type": "code",
   "execution_count": 25,
   "id": "54a2df7b",
   "metadata": {
    "execution": {
     "iopub.execute_input": "2024-05-31T00:47:53.053595Z",
     "iopub.status.busy": "2024-05-31T00:47:53.053595Z",
     "iopub.status.idle": "2024-05-31T00:48:31.598826Z",
     "shell.execute_reply": "2024-05-31T00:48:31.598826Z"
    },
    "papermill": {
     "duration": 38.556581,
     "end_time": "2024-05-31T00:48:31.600928",
     "exception": false,
     "start_time": "2024-05-31T00:47:53.044347",
     "status": "completed"
    },
    "tags": []
   },
   "outputs": [],
   "source": [
    "pipeline = Pipeline([\n",
    "    ('vectorizer', count_vector),\n",
    "    ('clf', MultinomialNB(alpha=0.3))\n",
    "])\n",
    "pipeline.fit(X_train, y_train)\n",
    "with open(directory + \"NB.pkl\", 'wb') as f:\n",
    "    pickle.dump(pipeline, f)"
   ]
  },
  {
   "cell_type": "markdown",
   "id": "e2254476",
   "metadata": {
    "papermill": {
     "duration": 0.009561,
     "end_time": "2024-05-31T00:48:31.619147",
     "exception": false,
     "start_time": "2024-05-31T00:48:31.609586",
     "status": "completed"
    },
    "tags": []
   },
   "source": [
    "### Decision Tree"
   ]
  },
  {
   "cell_type": "code",
   "execution_count": 26,
   "id": "ed9e2155",
   "metadata": {
    "execution": {
     "iopub.execute_input": "2024-05-31T00:48:31.637579Z",
     "iopub.status.busy": "2024-05-31T00:48:31.637579Z",
     "iopub.status.idle": "2024-05-31T00:49:17.387661Z",
     "shell.execute_reply": "2024-05-31T00:49:17.387661Z"
    },
    "papermill": {
     "duration": 45.762641,
     "end_time": "2024-05-31T00:49:17.389687",
     "exception": false,
     "start_time": "2024-05-31T00:48:31.627046",
     "status": "completed"
    },
    "tags": []
   },
   "outputs": [],
   "source": [
    "pipeline = Pipeline([\n",
    "    ('vectorizer', count_vector),\n",
    "    ('clf', DecisionTreeClassifier(max_depth=300, min_samples_split=1000, max_leaf_nodes=340))\n",
    "])\n",
    "pipeline.fit(X_train, y_train)\n",
    "with open(directory + \"DT.pkl\", 'wb') as f:\n",
    "    pickle.dump(pipeline, f)"
   ]
  },
  {
   "cell_type": "markdown",
   "id": "0104f09a",
   "metadata": {
    "papermill": {
     "duration": 0.00933,
     "end_time": "2024-05-31T00:49:17.408169",
     "exception": false,
     "start_time": "2024-05-31T00:49:17.398839",
     "status": "completed"
    },
    "tags": []
   },
   "source": [
    "### Support vector machine"
   ]
  },
  {
   "cell_type": "code",
   "execution_count": 27,
   "id": "09add61e",
   "metadata": {
    "execution": {
     "iopub.execute_input": "2024-05-31T00:49:17.426965Z",
     "iopub.status.busy": "2024-05-31T00:49:17.426965Z",
     "iopub.status.idle": "2024-05-31T00:50:11.497487Z",
     "shell.execute_reply": "2024-05-31T00:50:11.497487Z"
    },
    "papermill": {
     "duration": 54.08314,
     "end_time": "2024-05-31T00:50:11.499599",
     "exception": false,
     "start_time": "2024-05-31T00:49:17.416459",
     "status": "completed"
    },
    "tags": []
   },
   "outputs": [],
   "source": [
    "pipeline = Pipeline([\n",
    "    ('vectorizer', count_vector),\n",
    "    ('clf', SVC(C=60.0, gamma=0.0016681005372000592))\n",
    "])\n",
    "pipeline.fit(X_train, y_train)\n",
    "with open(directory + \"SVM.pkl\", 'wb') as f:\n",
    "    pickle.dump(pipeline, f)"
   ]
  },
  {
   "cell_type": "markdown",
   "id": "1888efb2",
   "metadata": {
    "papermill": {
     "duration": 0.009913,
     "end_time": "2024-05-31T00:50:11.519387",
     "exception": false,
     "start_time": "2024-05-31T00:50:11.509474",
     "status": "completed"
    },
    "tags": []
   },
   "source": [
    "### Logistic Regression (OvR)"
   ]
  },
  {
   "cell_type": "code",
   "execution_count": 28,
   "id": "874ddf03",
   "metadata": {
    "execution": {
     "iopub.execute_input": "2024-05-31T00:50:11.541159Z",
     "iopub.status.busy": "2024-05-31T00:50:11.540169Z",
     "iopub.status.idle": "2024-05-31T00:57:47.856270Z",
     "shell.execute_reply": "2024-05-31T00:57:47.856105Z"
    },
    "papermill": {
     "duration": 456.328943,
     "end_time": "2024-05-31T00:57:47.857913",
     "exception": false,
     "start_time": "2024-05-31T00:50:11.528970",
     "status": "completed"
    },
    "tags": []
   },
   "outputs": [],
   "source": [
    "pipeline = Pipeline([\n",
    "    ('vectorizer', count_vector),\n",
    "    ('clf', LogisticRegression(C=3.1622776601683795, l1_ratio=0.5, \n",
    "                              multi_class='ovr',penalty='elasticnet', solver='saga'))\n",
    "])\n",
    "pipeline.fit(X_train, y_train)\n",
    "with open(directory + \"LR.pkl\", 'wb') as f:\n",
    "    pickle.dump(pipeline, f)"
   ]
  },
  {
   "cell_type": "markdown",
   "id": "90c55ddf",
   "metadata": {
    "papermill": {
     "duration": 0.009652,
     "end_time": "2024-05-31T00:57:47.877581",
     "exception": false,
     "start_time": "2024-05-31T00:57:47.867929",
     "status": "completed"
    },
    "tags": []
   },
   "source": [
    "### Random forest"
   ]
  },
  {
   "cell_type": "code",
   "execution_count": 29,
   "id": "2d8ea85e",
   "metadata": {
    "execution": {
     "iopub.execute_input": "2024-05-31T00:57:47.898090Z",
     "iopub.status.busy": "2024-05-31T00:57:47.896354Z",
     "iopub.status.idle": "2024-05-31T00:58:52.286534Z",
     "shell.execute_reply": "2024-05-31T00:58:52.286534Z"
    },
    "papermill": {
     "duration": 64.401404,
     "end_time": "2024-05-31T00:58:52.288044",
     "exception": false,
     "start_time": "2024-05-31T00:57:47.886640",
     "status": "completed"
    },
    "tags": []
   },
   "outputs": [],
   "source": [
    "pipeline = Pipeline([\n",
    "    ('vectorizer', count_vector),\n",
    "    ('clf', RandomForestClassifier(max_depth=1000, max_features=100, \n",
    "                                  min_samples_split=25, n_estimators=256))\n",
    "])\n",
    "pipeline.fit(X_train, y_train)\n",
    "with open(directory + \"RF.pkl\", 'wb') as f:\n",
    "    pickle.dump(pipeline, f)"
   ]
  },
  {
   "cell_type": "markdown",
   "id": "d53c1d12",
   "metadata": {
    "papermill": {
     "duration": 0.01001,
     "end_time": "2024-05-31T00:58:52.308595",
     "exception": false,
     "start_time": "2024-05-31T00:58:52.298585",
     "status": "completed"
    },
    "tags": []
   },
   "source": [
    "### Softmax regression"
   ]
  },
  {
   "cell_type": "code",
   "execution_count": 30,
   "id": "0b3b1a2f",
   "metadata": {
    "execution": {
     "iopub.execute_input": "2024-05-31T00:58:52.328659Z",
     "iopub.status.busy": "2024-05-31T00:58:52.328659Z",
     "iopub.status.idle": "2024-05-31T00:59:45.168223Z",
     "shell.execute_reply": "2024-05-31T00:59:45.168223Z"
    },
    "papermill": {
     "duration": 52.8526,
     "end_time": "2024-05-31T00:59:45.170322",
     "exception": false,
     "start_time": "2024-05-31T00:58:52.317722",
     "status": "completed"
    },
    "tags": []
   },
   "outputs": [],
   "source": [
    "pipeline = Pipeline([\n",
    "    ('vectorizer', count_vector),\n",
    "    ('clf', LogisticRegression(C=1, penalty='l1', solver='saga', multi_class='multinomial'))\n",
    "])\n",
    "pipeline.fit(X_train, y_train)\n",
    "with open(directory + \"SR.pkl\", 'wb') as f:\n",
    "    pickle.dump(pipeline, f)"
   ]
  },
  {
   "cell_type": "markdown",
   "id": "8d5c7669",
   "metadata": {
    "papermill": {
     "duration": 0.009465,
     "end_time": "2024-05-31T00:59:45.188732",
     "exception": false,
     "start_time": "2024-05-31T00:59:45.179267",
     "status": "completed"
    },
    "tags": []
   },
   "source": [
    "## BoW/TF-IDF (L1 regularization removal)"
   ]
  },
  {
   "cell_type": "code",
   "execution_count": 31,
   "id": "2a98bd2d",
   "metadata": {
    "execution": {
     "iopub.execute_input": "2024-05-31T00:59:45.208146Z",
     "iopub.status.busy": "2024-05-31T00:59:45.208146Z",
     "iopub.status.idle": "2024-05-31T00:59:45.216036Z",
     "shell.execute_reply": "2024-05-31T00:59:45.216036Z"
    },
    "papermill": {
     "duration": 0.019733,
     "end_time": "2024-05-31T00:59:45.217650",
     "exception": false,
     "start_time": "2024-05-31T00:59:45.197917",
     "status": "completed"
    },
    "tags": []
   },
   "outputs": [],
   "source": [
    "tfidf_vector = TfidfVectorizer(stop_words=L1_stopwords, tokenizer=useless_tokenize, ngram_range=(1, 2))\n",
    "directory = 'data/models/TF-IDF L1/'"
   ]
  },
  {
   "cell_type": "markdown",
   "id": "42f55424",
   "metadata": {
    "papermill": {
     "duration": 0.010064,
     "end_time": "2024-05-31T00:59:45.236246",
     "exception": false,
     "start_time": "2024-05-31T00:59:45.226182",
     "status": "completed"
    },
    "tags": []
   },
   "source": [
    "### kNN"
   ]
  },
  {
   "cell_type": "code",
   "execution_count": 32,
   "id": "9c3af82b",
   "metadata": {
    "execution": {
     "iopub.execute_input": "2024-05-31T00:59:45.255278Z",
     "iopub.status.busy": "2024-05-31T00:59:45.254193Z",
     "iopub.status.idle": "2024-05-31T01:00:08.485049Z",
     "shell.execute_reply": "2024-05-31T01:00:08.484487Z"
    },
    "papermill": {
     "duration": 23.240812,
     "end_time": "2024-05-31T01:00:08.486054",
     "exception": false,
     "start_time": "2024-05-31T00:59:45.245242",
     "status": "completed"
    },
    "tags": []
   },
   "outputs": [],
   "source": [
    "pipeline = Pipeline([\n",
    "    ('vectorizer', tfidf_vector),\n",
    "    ('clf', KNeighborsClassifier(n_neighbors = 40, p = 2, weights = 'distance'))\n",
    "])\n",
    "pipeline.fit(X_train, y_train)\n",
    "with open(directory + \"kNN.pkl\", 'wb') as f:\n",
    "    pickle.dump(pipeline, f)"
   ]
  },
  {
   "cell_type": "markdown",
   "id": "97a5d719",
   "metadata": {
    "papermill": {
     "duration": 0.00975,
     "end_time": "2024-05-31T01:00:08.506075",
     "exception": false,
     "start_time": "2024-05-31T01:00:08.496325",
     "status": "completed"
    },
    "tags": []
   },
   "source": [
    "### Naive Bayes"
   ]
  },
  {
   "cell_type": "code",
   "execution_count": 33,
   "id": "eaf7fe04",
   "metadata": {
    "execution": {
     "iopub.execute_input": "2024-05-31T01:00:08.526191Z",
     "iopub.status.busy": "2024-05-31T01:00:08.526191Z",
     "iopub.status.idle": "2024-05-31T01:00:29.514205Z",
     "shell.execute_reply": "2024-05-31T01:00:29.513203Z"
    },
    "papermill": {
     "duration": 21.000217,
     "end_time": "2024-05-31T01:00:29.515352",
     "exception": false,
     "start_time": "2024-05-31T01:00:08.515135",
     "status": "completed"
    },
    "tags": []
   },
   "outputs": [],
   "source": [
    "pipeline = Pipeline([\n",
    "    ('vectorizer', tfidf_vector),\n",
    "    ('clf', MultinomialNB(alpha=0.075))\n",
    "])\n",
    "pipeline.fit(X_train, y_train)\n",
    "with open(directory + \"NB.pkl\", 'wb') as f:\n",
    "    pickle.dump(pipeline, f)"
   ]
  },
  {
   "cell_type": "markdown",
   "id": "abc6f43f",
   "metadata": {
    "papermill": {
     "duration": 0.010266,
     "end_time": "2024-05-31T01:00:29.536292",
     "exception": false,
     "start_time": "2024-05-31T01:00:29.526026",
     "status": "completed"
    },
    "tags": []
   },
   "source": [
    "### Decision Tree"
   ]
  },
  {
   "cell_type": "code",
   "execution_count": 34,
   "id": "784fc8fe",
   "metadata": {
    "execution": {
     "iopub.execute_input": "2024-05-31T01:00:29.557991Z",
     "iopub.status.busy": "2024-05-31T01:00:29.556392Z",
     "iopub.status.idle": "2024-05-31T01:00:56.084988Z",
     "shell.execute_reply": "2024-05-31T01:00:56.084307Z"
    },
    "papermill": {
     "duration": 26.540595,
     "end_time": "2024-05-31T01:00:56.087000",
     "exception": false,
     "start_time": "2024-05-31T01:00:29.546405",
     "status": "completed"
    },
    "tags": []
   },
   "outputs": [],
   "source": [
    "pipeline = Pipeline([\n",
    "    ('vectorizer', tfidf_vector),\n",
    "    ('clf', DecisionTreeClassifier(max_depth=2000, min_samples_leaf=4,\n",
    "                                  min_samples_split=500, max_leaf_nodes=253))\n",
    "])\n",
    "pipeline.fit(X_train, y_train)\n",
    "with open(directory + \"DT.pkl\", 'wb') as f:\n",
    "    pickle.dump(pipeline, f)"
   ]
  },
  {
   "cell_type": "markdown",
   "id": "aa854679",
   "metadata": {
    "papermill": {
     "duration": 0.01025,
     "end_time": "2024-05-31T01:00:56.107841",
     "exception": false,
     "start_time": "2024-05-31T01:00:56.097591",
     "status": "completed"
    },
    "tags": []
   },
   "source": [
    "### Support vector machine"
   ]
  },
  {
   "cell_type": "code",
   "execution_count": 35,
   "id": "01f48981",
   "metadata": {
    "execution": {
     "iopub.execute_input": "2024-05-31T01:00:56.130441Z",
     "iopub.status.busy": "2024-05-31T01:00:56.129443Z",
     "iopub.status.idle": "2024-05-31T01:01:57.002956Z",
     "shell.execute_reply": "2024-05-31T01:01:57.002956Z"
    },
    "papermill": {
     "duration": 60.887184,
     "end_time": "2024-05-31T01:01:57.005166",
     "exception": false,
     "start_time": "2024-05-31T01:00:56.117982",
     "status": "completed"
    },
    "tags": []
   },
   "outputs": [],
   "source": [
    "pipeline = Pipeline([\n",
    "    ('vectorizer', tfidf_vector),\n",
    "    ('clf', SVC(C=56.0, gamma=0.01))\n",
    "])\n",
    "pipeline.fit(X_train, y_train)\n",
    "with open(directory + \"SVM.pkl\", 'wb') as f:\n",
    "    pickle.dump(pipeline, f)"
   ]
  },
  {
   "cell_type": "markdown",
   "id": "82b04f32",
   "metadata": {
    "papermill": {
     "duration": 0.00915,
     "end_time": "2024-05-31T01:01:57.024192",
     "exception": false,
     "start_time": "2024-05-31T01:01:57.015042",
     "status": "completed"
    },
    "tags": []
   },
   "source": [
    "### Logistic Regression (OvR)"
   ]
  },
  {
   "cell_type": "code",
   "execution_count": 36,
   "id": "17ad399b",
   "metadata": {
    "execution": {
     "iopub.execute_input": "2024-05-31T01:01:57.046605Z",
     "iopub.status.busy": "2024-05-31T01:01:57.046605Z",
     "iopub.status.idle": "2024-05-31T01:02:18.832667Z",
     "shell.execute_reply": "2024-05-31T01:02:18.831557Z"
    },
    "papermill": {
     "duration": 21.799587,
     "end_time": "2024-05-31T01:02:18.834230",
     "exception": false,
     "start_time": "2024-05-31T01:01:57.034643",
     "status": "completed"
    },
    "tags": []
   },
   "outputs": [],
   "source": [
    "pipeline = Pipeline([\n",
    "    ('vectorizer', tfidf_vector),\n",
    "    ('clf', LogisticRegression(C=4.5, penalty='l1', solver='liblinear', multi_class='ovr'))\n",
    "])\n",
    "pipeline.fit(X_train, y_train)\n",
    "with open(directory + \"LR.pkl\", 'wb') as f:\n",
    "    pickle.dump(pipeline, f)"
   ]
  },
  {
   "cell_type": "markdown",
   "id": "cb4257f8",
   "metadata": {
    "papermill": {
     "duration": 0.009571,
     "end_time": "2024-05-31T01:02:18.853036",
     "exception": false,
     "start_time": "2024-05-31T01:02:18.843465",
     "status": "completed"
    },
    "tags": []
   },
   "source": [
    "### Random forest"
   ]
  },
  {
   "cell_type": "code",
   "execution_count": 37,
   "id": "8e6e7685",
   "metadata": {
    "execution": {
     "iopub.execute_input": "2024-05-31T01:02:18.872189Z",
     "iopub.status.busy": "2024-05-31T01:02:18.872189Z",
     "iopub.status.idle": "2024-05-31T01:03:25.294886Z",
     "shell.execute_reply": "2024-05-31T01:03:25.293742Z"
    },
    "papermill": {
     "duration": 66.433921,
     "end_time": "2024-05-31T01:03:25.295982",
     "exception": false,
     "start_time": "2024-05-31T01:02:18.862061",
     "status": "completed"
    },
    "tags": []
   },
   "outputs": [],
   "source": [
    "pipeline = Pipeline([\n",
    "    ('vectorizer', tfidf_vector),\n",
    "    ('clf', RandomForestClassifier(max_depth=2000, max_features=100, min_samples_split=25, n_estimators=256))\n",
    "])\n",
    "pipeline.fit(X_train, y_train)\n",
    "with open(directory + \"RF.pkl\", 'wb') as f:\n",
    "    pickle.dump(pipeline, f)"
   ]
  },
  {
   "cell_type": "markdown",
   "id": "7ba99d43",
   "metadata": {
    "papermill": {
     "duration": 0.009675,
     "end_time": "2024-05-31T01:03:25.316583",
     "exception": false,
     "start_time": "2024-05-31T01:03:25.306908",
     "status": "completed"
    },
    "tags": []
   },
   "source": [
    "### Softmax regression"
   ]
  },
  {
   "cell_type": "code",
   "execution_count": 38,
   "id": "14a0e32f",
   "metadata": {
    "execution": {
     "iopub.execute_input": "2024-05-31T01:03:25.336628Z",
     "iopub.status.busy": "2024-05-31T01:03:25.336628Z",
     "iopub.status.idle": "2024-05-31T01:03:53.908124Z",
     "shell.execute_reply": "2024-05-31T01:03:53.907113Z"
    },
    "papermill": {
     "duration": 28.583664,
     "end_time": "2024-05-31T01:03:53.909115",
     "exception": false,
     "start_time": "2024-05-31T01:03:25.325451",
     "status": "completed"
    },
    "tags": []
   },
   "outputs": [],
   "source": [
    "pipeline = Pipeline([\n",
    "    ('vectorizer', tfidf_vector),\n",
    "    ('clf', LogisticRegression(C=2, penalty='l1', solver='saga', multi_class='multinomial'))\n",
    "])\n",
    "pipeline.fit(X_train, y_train)\n",
    "with open(directory + \"SR.pkl\", 'wb') as f:\n",
    "    pickle.dump(pipeline, f)"
   ]
  }
 ],
 "metadata": {
  "kernelspec": {
   "display_name": "base",
   "language": "python",
   "name": "python3"
  },
  "language_info": {
   "codemirror_mode": {
    "name": "ipython",
    "version": 3
   },
   "file_extension": ".py",
   "mimetype": "text/x-python",
   "name": "python",
   "nbconvert_exporter": "python",
   "pygments_lexer": "ipython3",
   "version": "3.12.3"
  },
  "papermill": {
   "default_parameters": {},
   "duration": 2504.730223,
   "end_time": "2024-05-31T01:03:54.826248",
   "environment_variables": {},
   "exception": null,
   "input_path": "ExportModels.ipynb",
   "output_path": "ExportModels.ipynb",
   "parameters": {},
   "start_time": "2024-05-31T00:22:10.096025",
   "version": "2.6.0"
  }
 },
 "nbformat": 4,
 "nbformat_minor": 5
}