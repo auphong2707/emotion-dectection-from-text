{
 "cells": [
  {
   "cell_type": "markdown",
   "metadata": {},
   "source": [
    "# Import packages"
   ]
  },
  {
   "cell_type": "code",
   "execution_count": null,
   "metadata": {},
   "outputs": [],
   "source": [
    "import numpy as np  # Work with multi-dimenional data\n",
    "import pandas as pd # Work with relational data\n",
    "import matplotlib.pyplot as plt # Visualize data\n",
    "import seaborn as sns # Visualize data base on matplotlib\n",
    "import nltk\n",
    "import pickle\n",
    "from nltk.stem import PorterStemmer\n",
    "from nltk.tokenize import word_tokenize\n",
    "from scipy import sparse\n",
    "from preset_function import *\n",
    "\n",
    "from sklearn.pipeline import Pipeline\n",
    "from sklearn.neighbors import KNeighborsClassifier\n",
    "from sklearn.naive_bayes import MultinomialNB\n",
    "from sklearn.tree import DecisionTreeClassifier\n",
    "from sklearn.linear_model import LogisticRegression\n",
    "from sklearn.svm import SVC\n",
    "from sklearn.ensemble import RandomForestClassifier\n",
    "\n",
    "nltk.download('punkt')\n",
    "\n",
    "import warnings\n",
    "warnings.filterwarnings(\"ignore\")\n",
    "\n",
    "from sklearn.feature_extraction.text import CountVectorizer, TfidfVectorizer\n",
    "from sklearn.model_selection import train_test_split"
   ]
  },
  {
   "cell_type": "markdown",
   "metadata": {},
   "source": [
    "# Dataset"
   ]
  },
  {
   "cell_type": "markdown",
   "metadata": {},
   "source": [
    "This is the dataset we used in model selection. In this notebook, we will use all the dataset to train the model"
   ]
  },
  {
   "cell_type": "code",
   "execution_count": null,
   "metadata": {},
   "outputs": [],
   "source": [
    "directory = 'data/dataset/raw/'\n",
    "\n",
    "# This method use to extract all the file in the input list\n",
    "def extract_data(files):\n",
    "  data_x_raw = list()\n",
    "  data_y_raw = list()\n",
    "  for file in files:\n",
    "    with open(directory + file) as f:\n",
    "      for line in f:\n",
    "        line = line.strip('\\n')\n",
    "        x_raw, y_raw = line.split(sep=';')\n",
    "\n",
    "        data_x_raw.append(x_raw)\n",
    "        data_y_raw.append(y_raw)\n",
    "\n",
    "  return data_x_raw, data_y_raw"
   ]
  },
  {
   "cell_type": "code",
   "execution_count": null,
   "metadata": {},
   "outputs": [],
   "source": [
    "X_train, y_train = extract_data(['train.txt', 'val.txt', 'test.txt'])"
   ]
  },
  {
   "cell_type": "markdown",
   "metadata": {},
   "source": [
    "# Necessary preprocess"
   ]
  },
  {
   "cell_type": "code",
   "execution_count": null,
   "metadata": {},
   "outputs": [],
   "source": [
    "file = open(\"data/stopwords/stop_words_english.txt\", 'r', encoding='utf-8')\n",
    "stopword_list = file.read().split('\\n')\n",
    "file.close()\n",
    "print(len(stopword_list))"
   ]
  },
  {
   "cell_type": "code",
   "execution_count": null,
   "metadata": {},
   "outputs": [],
   "source": [
    "file = open(\"data/stopwords/stop_words_english.txt\", 'r', encoding='utf-8')\n",
    "stop_words = file.read().split('\\n')\n",
    "\n",
    "import nltk\n",
    "from nltk.corpus import stopwords\n",
    " \n",
    "nltk.download('stopwords')\n",
    "tmp = stopwords.words('english')\n",
    "\n",
    "unfiltered_stopwords = stop_words + tmp\n",
    "\n",
    "print(len(unfiltered_stopwords))"
   ]
  },
  {
   "cell_type": "code",
   "execution_count": null,
   "metadata": {},
   "outputs": [],
   "source": [
    "stemmer = PorterStemmer()\n",
    "\n",
    "def unfiltered_tokenize(text):\n",
    "    tokens = word_tokenize(text)\n",
    "    tokens = [word for word in tokens if word not in unfiltered_stopwords]\n",
    "    stems = [stemmer.stem(token) for token in tokens]\n",
    "    return stems"
   ]
  },
  {
   "cell_type": "markdown",
   "metadata": {},
   "source": [
    "# Train and export"
   ]
  },
  {
   "cell_type": "markdown",
   "metadata": {},
   "source": [
    "This section will split into 4 subsection since we have 4 ways to process the data"
   ]
  },
  {
   "cell_type": "markdown",
   "metadata": {},
   "source": [
    "## Bag of words"
   ]
  },
  {
   "cell_type": "markdown",
   "metadata": {},
   "source": [
    "First we recreate the count vectorizer from the origin dataset. Then, we vectorize 2 dataset with that vectorizer"
   ]
  },
  {
   "cell_type": "code",
   "execution_count": null,
   "metadata": {},
   "outputs": [],
   "source": [
    "count_vector = CountVectorizer(stop_words=unfiltered_stopwords, tokenizer=unfiltered_tokenize, ngram_range=(1, 2))\n",
    "directory = \"data/models/BoW/\""
   ]
  },
  {
   "cell_type": "markdown",
   "metadata": {},
   "source": [
    "### kNN"
   ]
  },
  {
   "cell_type": "code",
   "execution_count": null,
   "metadata": {},
   "outputs": [],
   "source": [
    "pipeline = Pipeline([\n",
    "    ('vectorizer', count_vector),\n",
    "    ('clf', KNeighborsClassifier(n_neighbors = 2, p = 1, weights = 'distance'))\n",
    "])\n",
    "pipeline.fit(X_train, y_train)\n",
    "with open(directory + \"kNN.pkl\", 'wb') as f:\n",
    "    pickle.dump(pipeline, f)"
   ]
  },
  {
   "cell_type": "markdown",
   "metadata": {},
   "source": [
    "### Naive Bayes"
   ]
  },
  {
   "cell_type": "code",
   "execution_count": null,
   "metadata": {},
   "outputs": [],
   "source": [
    "pipeline = Pipeline([\n",
    "    ('vectorizer', count_vector),\n",
    "    ('clf', MultinomialNB(alpha=0.5))\n",
    "])\n",
    "pipeline.fit(X_train, y_train)\n",
    "with open(directory + \"NB.pkl\", 'wb') as f:\n",
    "    pickle.dump(pipeline, f)"
   ]
  },
  {
   "cell_type": "markdown",
   "metadata": {},
   "source": [
    "### Decision Tree"
   ]
  },
  {
   "cell_type": "code",
   "execution_count": null,
   "metadata": {},
   "outputs": [],
   "source": [
    "pipeline = Pipeline([\n",
    "    ('vectorizer', count_vector),\n",
    "    ('clf', DecisionTreeClassifier(max_depth=2500, min_samples_leaf=2, min_samples_split=1000, max_leaf_nodes=310))\n",
    "])\n",
    "pipeline.fit(X_train, y_train)\n",
    "with open(directory + \"DT.pkl\", 'wb') as f:\n",
    "    pickle.dump(pipeline, f)"
   ]
  },
  {
   "cell_type": "markdown",
   "metadata": {},
   "source": [
    "### Support vector machine"
   ]
  },
  {
   "cell_type": "code",
   "execution_count": null,
   "metadata": {},
   "outputs": [],
   "source": [
    "pipeline = Pipeline([\n",
    "    ('vectorizer', count_vector),\n",
    "    ('clf', SVC(C=50.0, gamma=0.001291549665014884))\n",
    "])\n",
    "pipeline.fit(X_train, y_train)\n",
    "with open(directory + \"SVM.pkl\", 'wb') as f:\n",
    "    pickle.dump(pipeline, f)"
   ]
  },
  {
   "cell_type": "markdown",
   "metadata": {},
   "source": [
    "### Logistic Regression (OvR)"
   ]
  },
  {
   "cell_type": "code",
   "execution_count": null,
   "metadata": {},
   "outputs": [],
   "source": [
    "pipeline = Pipeline([\n",
    "    ('vectorizer', count_vector),\n",
    "    ('clf', LogisticRegression(C=3.1622776601683795, l1_ratio=0.9, multi_class='ovr', penalty='elasticnet', solver='saga'))\n",
    "])\n",
    "pipeline.fit(X_train, y_train)\n",
    "with open(directory + \"LR.pkl\", 'wb') as f:\n",
    "    pickle.dump(pipeline, f)"
   ]
  },
  {
   "cell_type": "markdown",
   "metadata": {},
   "source": [
    "### Random forest"
   ]
  },
  {
   "cell_type": "code",
   "execution_count": null,
   "metadata": {},
   "outputs": [],
   "source": [
    "pipeline = Pipeline([\n",
    "    ('vectorizer', count_vector),\n",
    "    ('clf', RandomForestClassifier(max_depth=1000, max_features=200, min_samples_split=25, n_estimators=512))\n",
    "])\n",
    "pipeline.fit(X_train, y_train)\n",
    "with open(directory + \"RF.pkl\", 'wb') as f:\n",
    "    pickle.dump(pipeline, f)"
   ]
  },
  {
   "cell_type": "markdown",
   "metadata": {},
   "source": [
    "### Softmax regression"
   ]
  },
  {
   "cell_type": "code",
   "execution_count": null,
   "metadata": {},
   "outputs": [],
   "source": [
    "pipeline = Pipeline([\n",
    "    ('vectorizer', count_vector),\n",
    "    ('clf', LogisticRegression(C=1, l1_ratio=0.9, multi_class='multinomial', penalty='elasticnet', solver='saga'))\n",
    "])\n",
    "pipeline.fit(X_train, y_train)\n",
    "with open(directory + \"SR.pkl\", 'wb') as f:\n",
    "    pickle.dump(pipeline, f)"
   ]
  },
  {
   "cell_type": "markdown",
   "metadata": {},
   "source": [
    "## BoW/TF-IDF"
   ]
  },
  {
   "cell_type": "code",
   "execution_count": null,
   "metadata": {},
   "outputs": [],
   "source": [
    "tfidf_vector = TfidfVectorizer(stop_words=unfiltered_stopwords, tokenizer=unfiltered_tokenize, ngram_range=(1, 2))\n",
    "directory = 'data/models/TF-IDF/'"
   ]
  },
  {
   "cell_type": "markdown",
   "metadata": {},
   "source": [
    "### kNN"
   ]
  },
  {
   "cell_type": "code",
   "execution_count": null,
   "metadata": {},
   "outputs": [],
   "source": [
    "pipeline = Pipeline([\n",
    "    ('vectorizer', tfidf_vector),\n",
    "    ('clf', KNeighborsClassifier(n_neighbors = 24, p = 2, weights = 'uniform'))\n",
    "])\n",
    "pipeline.fit(X_train, y_train)\n",
    "with open(directory + \"kNN.pkl\", 'wb') as f:\n",
    "    pickle.dump(pipeline, f)"
   ]
  },
  {
   "cell_type": "markdown",
   "metadata": {},
   "source": [
    "### Naive Bayes"
   ]
  },
  {
   "cell_type": "code",
   "execution_count": null,
   "metadata": {},
   "outputs": [],
   "source": [
    "pipeline = Pipeline([\n",
    "    ('vectorizer', tfidf_vector),\n",
    "    ('clf', MultinomialNB(alpha=0.1))\n",
    "])\n",
    "pipeline.fit(X_train, y_train)\n",
    "with open(directory + \"NB.pkl\", 'wb') as f:\n",
    "    pickle.dump(pipeline, f)"
   ]
  },
  {
   "cell_type": "markdown",
   "metadata": {},
   "source": [
    "### Decision Tree"
   ]
  },
  {
   "cell_type": "code",
   "execution_count": null,
   "metadata": {},
   "outputs": [],
   "source": [
    "pipeline = Pipeline([\n",
    "    ('vectorizer', tfidf_vector),\n",
    "    ('clf', DecisionTreeClassifier(max_depth=2000, min_samples_leaf=3,\n",
    "                                  min_samples_split=500, max_leaf_nodes=250))\n",
    "])\n",
    "pipeline.fit(X_train, y_train)\n",
    "with open(directory + \"DT.pkl\", 'wb') as f:\n",
    "    pickle.dump(pipeline, f)"
   ]
  },
  {
   "cell_type": "markdown",
   "metadata": {},
   "source": [
    "### Support vector machine"
   ]
  },
  {
   "cell_type": "code",
   "execution_count": null,
   "metadata": {},
   "outputs": [],
   "source": [
    "pipeline = Pipeline([\n",
    "    ('vectorizer', tfidf_vector),\n",
    "    ('clf', SVC(kernel='linear', C=1.25))\n",
    "])\n",
    "pipeline.fit(X_train, y_train)\n",
    "with open(directory + \"SVM.pkl\", 'wb') as f:\n",
    "    pickle.dump(pipeline, f)"
   ]
  },
  {
   "cell_type": "markdown",
   "metadata": {},
   "source": [
    "### Logistic Regression (OvR)"
   ]
  },
  {
   "cell_type": "code",
   "execution_count": null,
   "metadata": {},
   "outputs": [],
   "source": [
    "pipeline = Pipeline([\n",
    "    ('vectorizer', tfidf_vector),\n",
    "    ('clf', LogisticRegression(C=25.118864315095795, l1_ratio=0.9, multi_class='ovr',\n",
    "                              penalty='elasticnet', solver='saga'))\n",
    "])\n",
    "pipeline.fit(X_train, y_train)\n",
    "with open(directory + \"LR.pkl\", 'wb') as f:\n",
    "    pickle.dump(pipeline, f)"
   ]
  },
  {
   "cell_type": "markdown",
   "metadata": {},
   "source": [
    "### Random forest"
   ]
  },
  {
   "cell_type": "code",
   "execution_count": null,
   "metadata": {},
   "outputs": [],
   "source": [
    "pipeline = Pipeline([\n",
    "    ('vectorizer', tfidf_vector),\n",
    "    ('clf', RandomForestClassifier(max_depth=5000, max_features=300, min_samples_split=25, n_estimators=256))\n",
    "])\n",
    "pipeline.fit(X_train, y_train)\n",
    "with open(directory + \"RF.pkl\", 'wb') as f:\n",
    "    pickle.dump(pipeline, f)"
   ]
  },
  {
   "cell_type": "markdown",
   "metadata": {},
   "source": [
    "### Softmax regression"
   ]
  },
  {
   "cell_type": "code",
   "execution_count": null,
   "metadata": {},
   "outputs": [],
   "source": [
    "pipeline = Pipeline([\n",
    "    ('vectorizer', tfidf_vector),\n",
    "    ('clf', LogisticRegression(C=3.1622776601683795, l1_ratio=0.9, multi_class='multinomial', penalty='elasticnet', solver='saga'))\n",
    "])\n",
    "pipeline.fit(X_train, y_train)\n",
    "with open(directory + \"SR.pkl\", 'wb') as f:\n",
    "    pickle.dump(pipeline, f)"
   ]
  },
  {
   "cell_type": "markdown",
   "metadata": {},
   "source": [
    "## Bag of words (L1 regularization removal)"
   ]
  },
  {
   "cell_type": "markdown",
   "metadata": {},
   "source": [
    "Vectorize in the new way:"
   ]
  },
  {
   "cell_type": "code",
   "execution_count": null,
   "metadata": {},
   "outputs": [],
   "source": [
    "file = open(\"data/stopwords/useless.txt\", 'r', encoding='utf-8')\n",
    "useless = file.read().split()\n",
    "\n",
    "L1_stopwords = unfiltered_stopwords + useless\n",
    "print(\"Length of new stopwords list:\", len(L1_stopwords))\n",
    "\n",
    "def useless_tokenize(text):\n",
    "    tokens = word_tokenize(text)\n",
    "    tokens = [word for word in tokens if word not in L1_stopwords]\n",
    "    stems = [stemmer.stem(token) for token in tokens]\n",
    "    return stems\n",
    "\n",
    "count_vector = CountVectorizer(stop_words=L1_stopwords, tokenizer=useless_tokenize, ngram_range=(1, 2))\n",
    "directory = 'data/models/BoW L1/'"
   ]
  },
  {
   "cell_type": "markdown",
   "metadata": {},
   "source": [
    "### kNN"
   ]
  },
  {
   "cell_type": "code",
   "execution_count": null,
   "metadata": {},
   "outputs": [],
   "source": [
    "pipeline = Pipeline([\n",
    "    ('vectorizer', count_vector),\n",
    "    ('clf', KNeighborsClassifier(n_neighbors = 3, p = 1, weights = 'uniform'))\n",
    "])\n",
    "pipeline.fit(X_train, y_train)\n",
    "with open(directory + \"kNN.pkl\", 'wb') as f:\n",
    "    pickle.dump(pipeline, f)"
   ]
  },
  {
   "cell_type": "markdown",
   "metadata": {},
   "source": [
    "### Naive Bayes"
   ]
  },
  {
   "cell_type": "code",
   "execution_count": null,
   "metadata": {},
   "outputs": [],
   "source": [
    "pipeline = Pipeline([\n",
    "    ('vectorizer', count_vector),\n",
    "    ('clf', MultinomialNB(alpha=0.3))\n",
    "])\n",
    "pipeline.fit(X_train, y_train)\n",
    "with open(directory + \"NB.pkl\", 'wb') as f:\n",
    "    pickle.dump(pipeline, f)"
   ]
  },
  {
   "cell_type": "markdown",
   "metadata": {},
   "source": [
    "### Decision Tree"
   ]
  },
  {
   "cell_type": "code",
   "execution_count": null,
   "metadata": {},
   "outputs": [],
   "source": [
    "pipeline = Pipeline([\n",
    "    ('vectorizer', count_vector),\n",
    "    ('clf', DecisionTreeClassifier(max_depth=300, min_samples_split=1000, max_leaf_nodes=340))\n",
    "])\n",
    "pipeline.fit(X_train, y_train)\n",
    "with open(directory + \"DT.pkl\", 'wb') as f:\n",
    "    pickle.dump(pipeline, f)"
   ]
  },
  {
   "cell_type": "markdown",
   "metadata": {},
   "source": [
    "### Support vector machine"
   ]
  },
  {
   "cell_type": "code",
   "execution_count": null,
   "metadata": {},
   "outputs": [],
   "source": [
    "pipeline = Pipeline([\n",
    "    ('vectorizer', count_vector),\n",
    "    ('clf', SVC(C=60.0, gamma=0.0016681005372000592))\n",
    "])\n",
    "pipeline.fit(X_train, y_train)\n",
    "with open(directory + \"SVM.pkl\", 'wb') as f:\n",
    "    pickle.dump(pipeline, f)"
   ]
  },
  {
   "cell_type": "markdown",
   "metadata": {},
   "source": [
    "### Logistic Regression (OvR)"
   ]
  },
  {
   "cell_type": "code",
   "execution_count": null,
   "metadata": {},
   "outputs": [],
   "source": [
    "pipeline = Pipeline([\n",
    "    ('vectorizer', count_vector),\n",
    "    ('clf', LogisticRegression(C=3.1622776601683795, l1_ratio=0.5, \n",
    "                              multi_class='ovr',penalty='elasticnet', solver='saga'))\n",
    "])\n",
    "pipeline.fit(X_train, y_train)\n",
    "with open(directory + \"LR.pkl\", 'wb') as f:\n",
    "    pickle.dump(pipeline, f)"
   ]
  },
  {
   "cell_type": "markdown",
   "metadata": {},
   "source": [
    "### Random forest"
   ]
  },
  {
   "cell_type": "code",
   "execution_count": null,
   "metadata": {},
   "outputs": [],
   "source": [
    "pipeline = Pipeline([\n",
    "    ('vectorizer', count_vector),\n",
    "    ('clf', RandomForestClassifier(max_depth=1000, max_features=100, \n",
    "                                  min_samples_split=25, n_estimators=256))\n",
    "])\n",
    "pipeline.fit(X_train, y_train)\n",
    "with open(directory + \"RF.pkl\", 'wb') as f:\n",
    "    pickle.dump(pipeline, f)"
   ]
  },
  {
   "cell_type": "markdown",
   "metadata": {},
   "source": [
    "### Softmax regression"
   ]
  },
  {
   "cell_type": "code",
   "execution_count": null,
   "metadata": {},
   "outputs": [],
   "source": [
    "pipeline = Pipeline([\n",
    "    ('vectorizer', count_vector),\n",
    "    ('clf', LogisticRegression(C=1, penalty='l1', solver='saga', multi_class='multinomial'))\n",
    "])\n",
    "pipeline.fit(X_train, y_train)\n",
    "with open(directory + \"SR.pkl\", 'wb') as f:\n",
    "    pickle.dump(pipeline, f)"
   ]
  },
  {
   "cell_type": "markdown",
   "metadata": {},
   "source": [
    "## BoW/TF-IDF (L1 regularization removal)"
   ]
  },
  {
   "cell_type": "code",
   "execution_count": null,
   "metadata": {},
   "outputs": [],
   "source": [
    "tfidf_vector = TfidfVectorizer(stop_words=L1_stopwords, tokenizer=useless_tokenize, ngram_range=(1, 2))\n",
    "directory = 'data/models/TF-IDF L1/'"
   ]
  },
  {
   "cell_type": "markdown",
   "metadata": {},
   "source": [
    "### kNN"
   ]
  },
  {
   "cell_type": "code",
   "execution_count": null,
   "metadata": {},
   "outputs": [],
   "source": [
    "pipeline = Pipeline([\n",
    "    ('vectorizer', tfidf_vector),\n",
    "    ('clf', KNeighborsClassifier(n_neighbors = 40, p = 2, weights = 'distance'))\n",
    "])\n",
    "pipeline.fit(X_train, y_train)\n",
    "with open(directory + \"kNN.pkl\", 'wb') as f:\n",
    "    pickle.dump(pipeline, f)"
   ]
  },
  {
   "cell_type": "markdown",
   "metadata": {},
   "source": [
    "### Naive Bayes"
   ]
  },
  {
   "cell_type": "code",
   "execution_count": null,
   "metadata": {},
   "outputs": [],
   "source": [
    "pipeline = Pipeline([\n",
    "    ('vectorizer', tfidf_vector),\n",
    "    ('clf', MultinomialNB(alpha=0.075))\n",
    "])\n",
    "pipeline.fit(X_train, y_train)\n",
    "with open(directory + \"NB.pkl\", 'wb') as f:\n",
    "    pickle.dump(pipeline, f)"
   ]
  },
  {
   "cell_type": "markdown",
   "metadata": {},
   "source": [
    "### Decision Tree"
   ]
  },
  {
   "cell_type": "code",
   "execution_count": null,
   "metadata": {},
   "outputs": [],
   "source": [
    "pipeline = Pipeline([\n",
    "    ('vectorizer', tfidf_vector),\n",
    "    ('clf', DecisionTreeClassifier(max_depth=2000, min_samples_leaf=4,\n",
    "                                  min_samples_split=500, max_leaf_nodes=253))\n",
    "])\n",
    "pipeline.fit(X_train, y_train)\n",
    "with open(directory + \"DT.pkl\", 'wb') as f:\n",
    "    pickle.dump(pipeline, f)"
   ]
  },
  {
   "cell_type": "markdown",
   "metadata": {},
   "source": [
    "### Support vector machine"
   ]
  },
  {
   "cell_type": "code",
   "execution_count": null,
   "metadata": {},
   "outputs": [],
   "source": [
    "pipeline = Pipeline([\n",
    "    ('vectorizer', tfidf_vector),\n",
    "    ('clf', SVC(C=56.0, gamma=0.01))\n",
    "])\n",
    "pipeline.fit(X_train, y_train)\n",
    "with open(directory + \"SVM.pkl\", 'wb') as f:\n",
    "    pickle.dump(pipeline, f)"
   ]
  },
  {
   "cell_type": "markdown",
   "metadata": {},
   "source": [
    "### Logistic Regression (OvR)"
   ]
  },
  {
   "cell_type": "code",
   "execution_count": null,
   "metadata": {},
   "outputs": [],
   "source": [
    "pipeline = Pipeline([\n",
    "    ('vectorizer', tfidf_vector),\n",
    "    ('clf', LogisticRegression(C=4.5, penalty='l1', solver='liblinear', multi_class='ovr'))\n",
    "])\n",
    "pipeline.fit(X_train, y_train)\n",
    "with open(directory + \"LR.pkl\", 'wb') as f:\n",
    "    pickle.dump(pipeline, f)"
   ]
  },
  {
   "cell_type": "markdown",
   "metadata": {},
   "source": [
    "### Random forest"
   ]
  },
  {
   "cell_type": "code",
   "execution_count": null,
   "metadata": {},
   "outputs": [],
   "source": [
    "pipeline = Pipeline([\n",
    "    ('vectorizer', tfidf_vector),\n",
    "    ('clf', RandomForestClassifier(max_depth=2000, max_features=100, min_samples_split=25, n_estimators=256))\n",
    "])\n",
    "pipeline.fit(X_train, y_train)\n",
    "with open(directory + \"RF.pkl\", 'wb') as f:\n",
    "    pickle.dump(pipeline, f)"
   ]
  },
  {
   "cell_type": "markdown",
   "metadata": {},
   "source": [
    "### Softmax regression"
   ]
  },
  {
   "cell_type": "code",
   "execution_count": null,
   "metadata": {},
   "outputs": [],
   "source": [
    "pipeline = Pipeline([\n",
    "    ('vectorizer', tfidf_vector),\n",
    "    ('clf', LogisticRegression(C=2, penalty='l1', solver='saga', multi_class='multinomial'))\n",
    "])\n",
    "pipeline.fit(X_train, y_train)\n",
    "with open(directory + \"SR.pkl\", 'wb') as f:\n",
    "    pickle.dump(pipeline, f)"
   ]
  }
 ],
 "metadata": {
  "kernelspec": {
   "display_name": "base",
   "language": "python",
   "name": "python3"
  },
  "language_info": {
   "codemirror_mode": {
    "name": "ipython",
    "version": 3
   },
   "file_extension": ".py",
   "mimetype": "text/x-python",
   "name": "python",
   "nbconvert_exporter": "python",
   "pygments_lexer": "ipython3",
   "version": "3.11.7"
  }
 },
 "nbformat": 4,
 "nbformat_minor": 2
}
